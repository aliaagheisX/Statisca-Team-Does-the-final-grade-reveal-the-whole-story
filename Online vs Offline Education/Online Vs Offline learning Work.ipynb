{
 "cells": [
  {
   "cell_type": "code",
   "execution_count": 5,
   "id": "63b6cc61-be85-4b9d-8b7f-e9e89b69b355",
   "metadata": {},
   "outputs": [],
   "source": [
    "import pandas as pd\n",
    "import numpy as np\n",
    "import seaborn as sb"
   ]
  },
  {
   "cell_type": "code",
   "execution_count": 9,
   "id": "c11cea66-c5c4-48ab-987b-42fccc564307",
   "metadata": {},
   "outputs": [],
   "source": [
    "study_hours_ds=pd.read_csv(\"D:\\Omar\\Stats\\Student_Grade.csv\")"
   ]
  },
  {
   "cell_type": "code",
   "execution_count": 10,
   "id": "845c3bb2-fcb3-4f0f-b9c2-8e2eef06ed0d",
   "metadata": {},
   "outputs": [],
   "source": [
    "study_hours_ds.rename(columns = {'Study Time In Minutes':'Study Time In Hours'}, inplace = True)\n",
    "study_hours_ds.rename(columns = {'Credit Grade':'Grade'}, inplace = True)\n"
   ]
  },
  {
   "cell_type": "code",
   "execution_count": 11,
   "id": "9248f367-9049-462e-808a-b7846e2e41e9",
   "metadata": {},
   "outputs": [
    {
     "data": {
      "text/html": [
       "<div>\n",
       "<style scoped>\n",
       "    .dataframe tbody tr th:only-of-type {\n",
       "        vertical-align: middle;\n",
       "    }\n",
       "\n",
       "    .dataframe tbody tr th {\n",
       "        vertical-align: top;\n",
       "    }\n",
       "\n",
       "    .dataframe thead th {\n",
       "        text-align: right;\n",
       "    }\n",
       "</style>\n",
       "<table border=\"1\" class=\"dataframe\">\n",
       "  <thead>\n",
       "    <tr style=\"text-align: right;\">\n",
       "      <th></th>\n",
       "      <th>Study Time In Hours</th>\n",
       "      <th>Grade</th>\n",
       "    </tr>\n",
       "  </thead>\n",
       "  <tbody>\n",
       "    <tr>\n",
       "      <th>0</th>\n",
       "      <td>230</td>\n",
       "      <td>6.43</td>\n",
       "    </tr>\n",
       "    <tr>\n",
       "      <th>1</th>\n",
       "      <td>160</td>\n",
       "      <td>4.94</td>\n",
       "    </tr>\n",
       "    <tr>\n",
       "      <th>2</th>\n",
       "      <td>234</td>\n",
       "      <td>6.53</td>\n",
       "    </tr>\n",
       "    <tr>\n",
       "      <th>3</th>\n",
       "      <td>120</td>\n",
       "      <td>4.17</td>\n",
       "    </tr>\n",
       "    <tr>\n",
       "      <th>4</th>\n",
       "      <td>350</td>\n",
       "      <td>8.99</td>\n",
       "    </tr>\n",
       "  </tbody>\n",
       "</table>\n",
       "</div>"
      ],
      "text/plain": [
       "   Study Time In Hours  Grade\n",
       "0                  230   6.43\n",
       "1                  160   4.94\n",
       "2                  234   6.53\n",
       "3                  120   4.17\n",
       "4                  350   8.99"
      ]
     },
     "execution_count": 11,
     "metadata": {},
     "output_type": "execute_result"
    }
   ],
   "source": [
    "study_hours_ds.head()\n"
   ]
  },
  {
   "cell_type": "code",
   "execution_count": 12,
   "id": "6f98e575-e21c-4fb7-91e3-8a77ae9a443f",
   "metadata": {},
   "outputs": [],
   "source": [
    "study_hours_ds['Grade'] = study_hours_ds['Grade']*10"
   ]
  },
  {
   "cell_type": "code",
   "execution_count": 13,
   "id": "509cf3bf-f2da-46ab-a634-44b6080a251b",
   "metadata": {},
   "outputs": [],
   "source": [
    "study_hours_ds['Study Time In Hours'] = study_hours_ds['Study Time In Hours'].div(60).round(2)"
   ]
  },
  {
   "cell_type": "code",
   "execution_count": 14,
   "id": "6df8c7ac-45f5-4956-ab50-44418383691e",
   "metadata": {},
   "outputs": [
    {
     "data": {
      "text/html": [
       "<div>\n",
       "<style scoped>\n",
       "    .dataframe tbody tr th:only-of-type {\n",
       "        vertical-align: middle;\n",
       "    }\n",
       "\n",
       "    .dataframe tbody tr th {\n",
       "        vertical-align: top;\n",
       "    }\n",
       "\n",
       "    .dataframe thead th {\n",
       "        text-align: right;\n",
       "    }\n",
       "</style>\n",
       "<table border=\"1\" class=\"dataframe\">\n",
       "  <thead>\n",
       "    <tr style=\"text-align: right;\">\n",
       "      <th></th>\n",
       "      <th>Study Time In Hours</th>\n",
       "      <th>Grade</th>\n",
       "    </tr>\n",
       "  </thead>\n",
       "  <tbody>\n",
       "    <tr>\n",
       "      <th>0</th>\n",
       "      <td>3.83</td>\n",
       "      <td>64.3</td>\n",
       "    </tr>\n",
       "    <tr>\n",
       "      <th>1</th>\n",
       "      <td>2.67</td>\n",
       "      <td>49.4</td>\n",
       "    </tr>\n",
       "    <tr>\n",
       "      <th>2</th>\n",
       "      <td>3.90</td>\n",
       "      <td>65.3</td>\n",
       "    </tr>\n",
       "    <tr>\n",
       "      <th>3</th>\n",
       "      <td>2.00</td>\n",
       "      <td>41.7</td>\n",
       "    </tr>\n",
       "    <tr>\n",
       "      <th>4</th>\n",
       "      <td>5.83</td>\n",
       "      <td>89.9</td>\n",
       "    </tr>\n",
       "  </tbody>\n",
       "</table>\n",
       "</div>"
      ],
      "text/plain": [
       "   Study Time In Hours  Grade\n",
       "0                 3.83   64.3\n",
       "1                 2.67   49.4\n",
       "2                 3.90   65.3\n",
       "3                 2.00   41.7\n",
       "4                 5.83   89.9"
      ]
     },
     "execution_count": 14,
     "metadata": {},
     "output_type": "execute_result"
    }
   ],
   "source": [
    "study_hours_ds.head()"
   ]
  },
  {
   "cell_type": "code",
   "execution_count": 15,
   "id": "b98d4cf5-0920-4e35-98db-9a58592d69e6",
   "metadata": {},
   "outputs": [],
   "source": [
    "import matplotlib.pyplot as plt"
   ]
  },
  {
   "cell_type": "code",
   "execution_count": 16,
   "id": "8fd8bbd0-7a82-4a60-86a5-3a805936374c",
   "metadata": {},
   "outputs": [],
   "source": [
    "from sklearn.linear_model import LinearRegression"
   ]
  },
  {
   "cell_type": "code",
   "execution_count": 305,
   "id": "57bc91cb-e734-4884-8291-d2ead5d7403a",
   "metadata": {},
   "outputs": [],
   "source": [
    "x = study_hours_ds[study_hours_ds.columns[0:1]].to_numpy()\n",
    "y=  study_hours_ds[study_hours_ds.columns[1:2]].to_numpy()"
   ]
  },
  {
   "cell_type": "code",
   "execution_count": 306,
   "id": "18dcabca-16b7-478e-88ce-846e5526255e",
   "metadata": {},
   "outputs": [],
   "source": [
    "linreg=LinearRegression()"
   ]
  },
  {
   "cell_type": "code",
   "execution_count": 307,
   "id": "e59677f8-027b-4620-a54a-83cd0e97b035",
   "metadata": {},
   "outputs": [],
   "source": [
    "x=x.reshape(-1,1)"
   ]
  },
  {
   "cell_type": "code",
   "execution_count": 308,
   "id": "e5cfcc0b-b196-4750-a992-bdffdf076ed7",
   "metadata": {},
   "outputs": [
    {
     "data": {
      "text/html": [
       "<style>#sk-container-id-3 {color: black;background-color: white;}#sk-container-id-3 pre{padding: 0;}#sk-container-id-3 div.sk-toggleable {background-color: white;}#sk-container-id-3 label.sk-toggleable__label {cursor: pointer;display: block;width: 100%;margin-bottom: 0;padding: 0.3em;box-sizing: border-box;text-align: center;}#sk-container-id-3 label.sk-toggleable__label-arrow:before {content: \"▸\";float: left;margin-right: 0.25em;color: #696969;}#sk-container-id-3 label.sk-toggleable__label-arrow:hover:before {color: black;}#sk-container-id-3 div.sk-estimator:hover label.sk-toggleable__label-arrow:before {color: black;}#sk-container-id-3 div.sk-toggleable__content {max-height: 0;max-width: 0;overflow: hidden;text-align: left;background-color: #f0f8ff;}#sk-container-id-3 div.sk-toggleable__content pre {margin: 0.2em;color: black;border-radius: 0.25em;background-color: #f0f8ff;}#sk-container-id-3 input.sk-toggleable__control:checked~div.sk-toggleable__content {max-height: 200px;max-width: 100%;overflow: auto;}#sk-container-id-3 input.sk-toggleable__control:checked~label.sk-toggleable__label-arrow:before {content: \"▾\";}#sk-container-id-3 div.sk-estimator input.sk-toggleable__control:checked~label.sk-toggleable__label {background-color: #d4ebff;}#sk-container-id-3 div.sk-label input.sk-toggleable__control:checked~label.sk-toggleable__label {background-color: #d4ebff;}#sk-container-id-3 input.sk-hidden--visually {border: 0;clip: rect(1px 1px 1px 1px);clip: rect(1px, 1px, 1px, 1px);height: 1px;margin: -1px;overflow: hidden;padding: 0;position: absolute;width: 1px;}#sk-container-id-3 div.sk-estimator {font-family: monospace;background-color: #f0f8ff;border: 1px dotted black;border-radius: 0.25em;box-sizing: border-box;margin-bottom: 0.5em;}#sk-container-id-3 div.sk-estimator:hover {background-color: #d4ebff;}#sk-container-id-3 div.sk-parallel-item::after {content: \"\";width: 100%;border-bottom: 1px solid gray;flex-grow: 1;}#sk-container-id-3 div.sk-label:hover label.sk-toggleable__label {background-color: #d4ebff;}#sk-container-id-3 div.sk-serial::before {content: \"\";position: absolute;border-left: 1px solid gray;box-sizing: border-box;top: 0;bottom: 0;left: 50%;z-index: 0;}#sk-container-id-3 div.sk-serial {display: flex;flex-direction: column;align-items: center;background-color: white;padding-right: 0.2em;padding-left: 0.2em;position: relative;}#sk-container-id-3 div.sk-item {position: relative;z-index: 1;}#sk-container-id-3 div.sk-parallel {display: flex;align-items: stretch;justify-content: center;background-color: white;position: relative;}#sk-container-id-3 div.sk-item::before, #sk-container-id-3 div.sk-parallel-item::before {content: \"\";position: absolute;border-left: 1px solid gray;box-sizing: border-box;top: 0;bottom: 0;left: 50%;z-index: -1;}#sk-container-id-3 div.sk-parallel-item {display: flex;flex-direction: column;z-index: 1;position: relative;background-color: white;}#sk-container-id-3 div.sk-parallel-item:first-child::after {align-self: flex-end;width: 50%;}#sk-container-id-3 div.sk-parallel-item:last-child::after {align-self: flex-start;width: 50%;}#sk-container-id-3 div.sk-parallel-item:only-child::after {width: 0;}#sk-container-id-3 div.sk-dashed-wrapped {border: 1px dashed gray;margin: 0 0.4em 0.5em 0.4em;box-sizing: border-box;padding-bottom: 0.4em;background-color: white;}#sk-container-id-3 div.sk-label label {font-family: monospace;font-weight: bold;display: inline-block;line-height: 1.2em;}#sk-container-id-3 div.sk-label-container {text-align: center;}#sk-container-id-3 div.sk-container {/* jupyter's `normalize.less` sets `[hidden] { display: none; }` but bootstrap.min.css set `[hidden] { display: none !important; }` so we also need the `!important` here to be able to override the default hidden behavior on the sphinx rendered scikit-learn.org. See: https://github.com/scikit-learn/scikit-learn/issues/21755 */display: inline-block !important;position: relative;}#sk-container-id-3 div.sk-text-repr-fallback {display: none;}</style><div id=\"sk-container-id-3\" class=\"sk-top-container\"><div class=\"sk-text-repr-fallback\"><pre>LinearRegression()</pre><b>In a Jupyter environment, please rerun this cell to show the HTML representation or trust the notebook. <br />On GitHub, the HTML representation is unable to render, please try loading this page with nbviewer.org.</b></div><div class=\"sk-container\" hidden><div class=\"sk-item\"><div class=\"sk-estimator sk-toggleable\"><input class=\"sk-toggleable__control sk-hidden--visually\" id=\"sk-estimator-id-3\" type=\"checkbox\" checked><label for=\"sk-estimator-id-3\" class=\"sk-toggleable__label sk-toggleable__label-arrow\">LinearRegression</label><div class=\"sk-toggleable__content\"><pre>LinearRegression()</pre></div></div></div></div></div>"
      ],
      "text/plain": [
       "LinearRegression()"
      ]
     },
     "execution_count": 308,
     "metadata": {},
     "output_type": "execute_result"
    }
   ],
   "source": [
    "linreg.fit(x,y)"
   ]
  },
  {
   "cell_type": "code",
   "execution_count": 309,
   "id": "76ecdcf1-8989-49e6-a819-79c2648f9de1",
   "metadata": {},
   "outputs": [],
   "source": [
    "y_pred=linreg.predict(x)"
   ]
  },
  {
   "cell_type": "code",
   "execution_count": 310,
   "id": "011f3f90-4b6d-4951-bfb7-90a0b910c688",
   "metadata": {},
   "outputs": [
    {
     "data": {
      "text/plain": [
       "[<matplotlib.lines.Line2D at 0x1b4221155a0>]"
      ]
     },
     "execution_count": 310,
     "metadata": {},
     "output_type": "execute_result"
    },
    {
     "data": {
      "image/png": "[encoded data removed]",
      "text/plain": [
       "<Figure size 640x480 with 1 Axes>"
      ]
     },
     "metadata": {},
     "output_type": "display_data"
    }
   ],
   "source": [
    "plt.scatter(x,y,color='blue')\n",
    "plt.plot(x,y_pred,color='red')"
   ]
  },
  {
   "cell_type": "code",
   "execution_count": 311,
   "id": "3b731c85-01af-483f-a5d7-7d4688755cf2",
   "metadata": {},
   "outputs": [
    {
     "name": "stdout",
     "output_type": "stream",
     "text": [
      "There is a direct relation between study hours and grades\n"
     ]
    }
   ],
   "source": [
    "print(\"There is a direct relation between study hours and grades\")"
   ]
  },
  {
   "cell_type": "code",
   "execution_count": 312,
   "id": "2190db3a-6913-4457-88d1-369fccd7028a",
   "metadata": {},
   "outputs": [],
   "source": [
    "x = study_hours_ds[study_hours_ds.columns[0:1]].to_numpy()\n",
    "y=  study_hours_ds[study_hours_ds.columns[1:2]].to_numpy()"
   ]
  },
  {
   "cell_type": "code",
   "execution_count": 313,
   "id": "8dfea60f-05e8-49c6-a580-501dce648662",
   "metadata": {},
   "outputs": [],
   "source": [
    "arr=[]\n",
    "means=[]\n",
    "for i in range(0,8):\n",
    "   for j in range(0,25):\n",
    "       arr.append(x[25*i+j])\n",
    "   means.append(n.mean(arr))\n",
    "   arr.clear()"
   ]
  },
  {
   "cell_type": "code",
   "execution_count": 315,
   "id": "d2670c9c-d46c-4b45-8679-15e3893b68ad",
   "metadata": {},
   "outputs": [
    {
     "name": "stdout",
     "output_type": "stream",
     "text": [
      "[4.596799999999999, 4.564, 4.0144, 4.018800000000001, 3.8771999999999998, 3.9495999999999998, 3.6883999999999997, 3.7591999999999994]\n"
     ]
    }
   ],
   "source": [
    "print(means)\n",
    "\n"
   ]
  },
  {
   "cell_type": "code",
   "execution_count": 319,
   "id": "4a5a02cc-3432-4852-b58c-ea5db86aecb7",
   "metadata": {},
   "outputs": [
    {
     "name": "stdout",
     "output_type": "stream",
     "text": [
      "[4.596799999999999, 4.564, 4.0144, 4.018800000000001, 3.8771999999999998, 3.9495999999999998, 3.6883999999999997, 3.7591999999999994]\n",
      "mean is: \n",
      "4.638342857142857\n"
     ]
    }
   ],
   "source": [
    "print(means)\n",
    "print(\"mean is: \")\n",
    "print((means[0]+means[1]+means[2]+means[3]+means[4]+means[5]+means[6]+means[7])/7)\n"
   ]
  },
  {
   "cell_type": "code",
   "execution_count": 320,
   "id": "84b09887-0df1-48cc-bc2c-83c64d604974",
   "metadata": {},
   "outputs": [
    {
     "data": {
      "image/png": "[encoded data removed]",
      "text/plain": [
       "<Figure size 640x480 with 1 Axes>"
      ]
     },
     "metadata": {},
     "output_type": "display_data"
    },
    {
     "name": "stdout",
     "output_type": "stream",
     "text": [
      "means of 6 samples of study hours plt\n"
     ]
    }
   ],
   "source": [
    "plt.hist(means, bins=7)\n",
    "plt.style.use('ggplot')\n",
    "plt.show()\n",
    "print(\"means of 6 samples of study hours plt\")"
   ]
  },
  {
   "cell_type": "code",
   "execution_count": 15,
   "id": "58dd08a4-0588-4976-bd15-a7cf06f2902f",
   "metadata": {},
   "outputs": [],
   "source": [
    "import scipy.stats as st\n"
   ]
  },
  {
   "cell_type": "code",
   "execution_count": 322,
   "id": "4a876e91-2382-466a-b3c3-82675b81850f",
   "metadata": {},
   "outputs": [
    {
     "name": "stdout",
     "output_type": "stream",
     "text": [
      "(array([3.81539461]), array([4.30170539]))\n",
      "confidence interval with confidence 95%\n"
     ]
    }
   ],
   "source": [
    "confidence_interval=st.t.interval(confidence=0.95, df=len(x)-1,\n",
    "              loc=n.mean(x),\n",
    "              scale=st.sem(x))\n",
    "print(confidence_interval)\n",
    "print('confidence interval with confidence 95%')"
   ]
  },
  {
   "cell_type": "code",
   "execution_count": 303,
   "id": "a8f2b807-dfc6-472c-8486-1f90b176005c",
   "metadata": {},
   "outputs": [],
   "source": [
    "arr=[]\n",
    "means=[]\n",
    "for i in range(0,8):\n",
    "   for j in range(0,25):\n",
    "       arr.append(y[25*i+j])\n",
    "   means.append(n.mean(arr))\n",
    "   arr.clear()"
   ]
  },
  {
   "cell_type": "code",
   "execution_count": 328,
   "id": "4b43f968-bde7-4be5-9a0e-08ad98db1d08",
   "metadata": {},
   "outputs": [
    {
     "name": "stdout",
     "output_type": "stream",
     "text": [
      "[4.596799999999999, 4.564, 4.0144, 4.018800000000001, 3.8771999999999998, 3.9495999999999998, 3.6883999999999997, 3.7591999999999994]\n",
      "mean is: \n",
      "4.638342857142857\n",
      "20.954017180483554\n"
     ]
    }
   ],
   "source": [
    "print(means)\n",
    "print(\"mean is: \")\n",
    "print((means[0]+means[1]+means[2]+means[3]+means[4]+means[5]+means[6]+means[7])/7)\n",
    "print(np.std(y)) "
   ]
  },
  {
   "cell_type": "code",
   "execution_count": 231,
   "id": "da656db7-5a06-4d03-81a6-b1cca32943af",
   "metadata": {},
   "outputs": [
    {
     "data": {
      "image/png": "[encoded data removed]",
      "text/plain": [
       "<Figure size 640x480 with 1 Axes>"
      ]
     },
     "metadata": {},
     "output_type": "display_data"
    },
    {
     "name": "stdout",
     "output_type": "stream",
     "text": [
      "grades of study hours plt\n"
     ]
    }
   ],
   "source": [
    "plt.hist(y, bins=6,color='green',edgecolor='black',linewidth=4.2)\n",
    "plt.style.use('ggplot')\n",
    "plt.show()\n",
    "print(\"grades of study hours plt\")"
   ]
  },
  {
   "cell_type": "raw",
   "id": "430ff37b-c1ec-4e3e-8f70-4c3c50b72fa4",
   "metadata": {},
   "source": [
    "confidence_interval=st.t.interval(confidence=0.95, df=len(y)-1,\n",
    "              loc=n.mean(y),\n",
    "              scale=st.sem(y))\n",
    "print(confidence_interval)\n",
    "print('confidence interval with confidence 95%')"
   ]
  },
  {
   "cell_type": "code",
   "execution_count": 6,
   "id": "01201779-775b-425e-b834-986fc513a433",
   "metadata": {},
   "outputs": [],
   "source": [
    "online_ds=pd.read_csv(\"D:\\Omar\\Stats\\ONLINE EDUCATION SYSTEM REVIEW2.csv\")"
   ]
  },
  {
   "cell_type": "code",
   "execution_count": 35,
   "id": "54ee3e05-4889-4a3d-b511-f5a918b01e37",
   "metadata": {},
   "outputs": [
    {
     "data": {
      "text/html": [
       "<div>\n",
       "<style scoped>\n",
       "    .dataframe tbody tr th:only-of-type {\n",
       "        vertical-align: middle;\n",
       "    }\n",
       "\n",
       "    .dataframe tbody tr th {\n",
       "        vertical-align: top;\n",
       "    }\n",
       "\n",
       "    .dataframe thead th {\n",
       "        text-align: right;\n",
       "    }\n",
       "</style>\n",
       "<table border=\"1\" class=\"dataframe\">\n",
       "  <thead>\n",
       "    <tr style=\"text-align: right;\">\n",
       "      <th></th>\n",
       "      <th>Gender</th>\n",
       "      <th>Home Location</th>\n",
       "      <th>Level of Education</th>\n",
       "      <th>Age(Years)</th>\n",
       "      <th>Number of Subjects</th>\n",
       "      <th>Device type used to attend classes</th>\n",
       "      <th>Economic status</th>\n",
       "      <th>Family size</th>\n",
       "      <th>Internet facility in your locality</th>\n",
       "      <th>Are you involved in any sports?</th>\n",
       "      <th>...</th>\n",
       "      <th>Time spent on social media (Hours)</th>\n",
       "      <th>Interested in Gaming?</th>\n",
       "      <th>Have separate room for studying?</th>\n",
       "      <th>Engaged in group studies?</th>\n",
       "      <th>Average marks scored before pandemic in traditional classroom</th>\n",
       "      <th>Your interaction in online mode</th>\n",
       "      <th>Clearing doubts with faculties in online mode</th>\n",
       "      <th>Interested in?</th>\n",
       "      <th>Performance in online</th>\n",
       "      <th>Your level of satisfaction in Online Education</th>\n",
       "    </tr>\n",
       "  </thead>\n",
       "  <tbody>\n",
       "    <tr>\n",
       "      <th>0</th>\n",
       "      <td>Male</td>\n",
       "      <td>Urban</td>\n",
       "      <td>Under Graduate</td>\n",
       "      <td>18</td>\n",
       "      <td>11</td>\n",
       "      <td>Laptop</td>\n",
       "      <td>Middle Class</td>\n",
       "      <td>4</td>\n",
       "      <td>5</td>\n",
       "      <td>No</td>\n",
       "      <td>...</td>\n",
       "      <td>1</td>\n",
       "      <td>No</td>\n",
       "      <td>No</td>\n",
       "      <td>No</td>\n",
       "      <td>91-100</td>\n",
       "      <td>1</td>\n",
       "      <td>1</td>\n",
       "      <td>Practical</td>\n",
       "      <td>6</td>\n",
       "      <td>Average</td>\n",
       "    </tr>\n",
       "    <tr>\n",
       "      <th>1</th>\n",
       "      <td>Male</td>\n",
       "      <td>Urban</td>\n",
       "      <td>Under Graduate</td>\n",
       "      <td>19</td>\n",
       "      <td>7</td>\n",
       "      <td>Laptop</td>\n",
       "      <td>Middle Class</td>\n",
       "      <td>4</td>\n",
       "      <td>1</td>\n",
       "      <td>Yes</td>\n",
       "      <td>...</td>\n",
       "      <td>1</td>\n",
       "      <td>Yes</td>\n",
       "      <td>Yes</td>\n",
       "      <td>No</td>\n",
       "      <td>91-100</td>\n",
       "      <td>1</td>\n",
       "      <td>1</td>\n",
       "      <td>Theory</td>\n",
       "      <td>3</td>\n",
       "      <td>Bad</td>\n",
       "    </tr>\n",
       "    <tr>\n",
       "      <th>2</th>\n",
       "      <td>Male</td>\n",
       "      <td>Rural</td>\n",
       "      <td>Under Graduate</td>\n",
       "      <td>18</td>\n",
       "      <td>5</td>\n",
       "      <td>Laptop</td>\n",
       "      <td>Middle Class</td>\n",
       "      <td>5</td>\n",
       "      <td>2</td>\n",
       "      <td>No</td>\n",
       "      <td>...</td>\n",
       "      <td>1</td>\n",
       "      <td>No</td>\n",
       "      <td>Yes</td>\n",
       "      <td>No</td>\n",
       "      <td>71-80</td>\n",
       "      <td>1</td>\n",
       "      <td>1</td>\n",
       "      <td>Both</td>\n",
       "      <td>6</td>\n",
       "      <td>Bad</td>\n",
       "    </tr>\n",
       "    <tr>\n",
       "      <th>3</th>\n",
       "      <td>Male</td>\n",
       "      <td>Urban</td>\n",
       "      <td>Under Graduate</td>\n",
       "      <td>18</td>\n",
       "      <td>5</td>\n",
       "      <td>Laptop</td>\n",
       "      <td>Middle Class</td>\n",
       "      <td>4</td>\n",
       "      <td>4</td>\n",
       "      <td>Yes</td>\n",
       "      <td>...</td>\n",
       "      <td>2</td>\n",
       "      <td>No</td>\n",
       "      <td>No</td>\n",
       "      <td>yes</td>\n",
       "      <td>91-100</td>\n",
       "      <td>1</td>\n",
       "      <td>2</td>\n",
       "      <td>Theory</td>\n",
       "      <td>4</td>\n",
       "      <td>Bad</td>\n",
       "    </tr>\n",
       "    <tr>\n",
       "      <th>4</th>\n",
       "      <td>Male</td>\n",
       "      <td>Rural</td>\n",
       "      <td>Under Graduate</td>\n",
       "      <td>18</td>\n",
       "      <td>5</td>\n",
       "      <td>Laptop</td>\n",
       "      <td>Middle Class</td>\n",
       "      <td>4</td>\n",
       "      <td>3</td>\n",
       "      <td>No</td>\n",
       "      <td>...</td>\n",
       "      <td>2</td>\n",
       "      <td>Yes</td>\n",
       "      <td>Yes</td>\n",
       "      <td>yes</td>\n",
       "      <td>81-90</td>\n",
       "      <td>3</td>\n",
       "      <td>3</td>\n",
       "      <td>Both</td>\n",
       "      <td>6</td>\n",
       "      <td>Average</td>\n",
       "    </tr>\n",
       "  </tbody>\n",
       "</table>\n",
       "<p>5 rows × 23 columns</p>\n",
       "</div>"
      ],
      "text/plain": [
       "  Gender Home Location Level of Education  Age(Years)  Number of Subjects  \\\n",
       "0   Male         Urban     Under Graduate          18                  11   \n",
       "1   Male         Urban     Under Graduate          19                   7   \n",
       "2   Male         Rural     Under Graduate          18                   5   \n",
       "3   Male         Urban     Under Graduate          18                   5   \n",
       "4   Male         Rural     Under Graduate          18                   5   \n",
       "\n",
       "  Device type used to attend classes Economic status  Family size  \\\n",
       "0                             Laptop    Middle Class            4   \n",
       "1                             Laptop    Middle Class            4   \n",
       "2                             Laptop    Middle Class            5   \n",
       "3                             Laptop    Middle Class            4   \n",
       "4                             Laptop    Middle Class            4   \n",
       "\n",
       "   Internet facility in your locality Are you involved in any sports?  ...  \\\n",
       "0                                   5                              No  ...   \n",
       "1                                   1                             Yes  ...   \n",
       "2                                   2                              No  ...   \n",
       "3                                   4                             Yes  ...   \n",
       "4                                   3                              No  ...   \n",
       "\n",
       "  Time spent on social media (Hours)  Interested in Gaming?  \\\n",
       "0                                  1                     No   \n",
       "1                                  1                    Yes   \n",
       "2                                  1                     No   \n",
       "3                                  2                     No   \n",
       "4                                  2                    Yes   \n",
       "\n",
       "   Have separate room for studying?  Engaged in group studies?  \\\n",
       "0                                No                         No   \n",
       "1                               Yes                         No   \n",
       "2                               Yes                         No   \n",
       "3                                No                        yes   \n",
       "4                               Yes                        yes   \n",
       "\n",
       "  Average marks scored before pandemic in traditional classroom  \\\n",
       "0                                             91-100              \n",
       "1                                             91-100              \n",
       "2                                              71-80              \n",
       "3                                             91-100              \n",
       "4                                              81-90              \n",
       "\n",
       "  Your interaction in online mode  \\\n",
       "0                               1   \n",
       "1                               1   \n",
       "2                               1   \n",
       "3                               1   \n",
       "4                               3   \n",
       "\n",
       "  Clearing doubts with faculties in online mode Interested in?  \\\n",
       "0                                             1      Practical   \n",
       "1                                             1         Theory   \n",
       "2                                             1           Both   \n",
       "3                                             2         Theory   \n",
       "4                                             3           Both   \n",
       "\n",
       "   Performance in online  Your level of satisfaction in Online Education  \n",
       "0                      6                                         Average  \n",
       "1                      3                                             Bad  \n",
       "2                      6                                             Bad  \n",
       "3                      4                                             Bad  \n",
       "4                      6                                         Average  \n",
       "\n",
       "[5 rows x 23 columns]"
      ]
     },
     "execution_count": 35,
     "metadata": {},
     "output_type": "execute_result"
    }
   ],
   "source": [
    "online_ds.head()"
   ]
  },
  {
   "cell_type": "code",
   "execution_count": 329,
   "id": "fb6dae1d-8662-4f8f-b3a2-c5399e700e7c",
   "metadata": {},
   "outputs": [],
   "source": [
    "x = online_ds['Study time (Hours)']\n",
    "y=  online_ds['Average marks scored before pandemic in traditional classroom']"
   ]
  },
  {
   "cell_type": "code",
   "execution_count": 330,
   "id": "843e6483-ed8a-455a-bdf9-8e999f4770d9",
   "metadata": {},
   "outputs": [],
   "source": [
    "x=x.to_numpy()"
   ]
  },
  {
   "cell_type": "code",
   "execution_count": 288,
   "id": "ced3b3bf-b892-4c6d-b934-a71854dc4b38",
   "metadata": {},
   "outputs": [],
   "source": [
    "y=y.to_numpy()"
   ]
  },
  {
   "cell_type": "code",
   "execution_count": 333,
   "id": "f2819513-79af-4045-bcda-de75ebc63e45",
   "metadata": {},
   "outputs": [
    {
     "name": "stdout",
     "output_type": "stream",
     "text": [
      "(4.25725372289658, 4.554554395184601)\n",
      "confidence interval with confidence 95%\n",
      "4.405904059040591\n"
     ]
    }
   ],
   "source": [
    "confidence_interval=st.t.interval(confidence=0.95, df=len(x)-1,\n",
    "              loc=np.mean(x),\n",
    "              scale=st.sem(x))\n",
    "print(confidence_interval)\n",
    "print('confidence interval with confidence 95%')\n",
    "print (np.mean(x))"
   ]
  },
  {
   "cell_type": "code",
   "execution_count": 289,
   "id": "c92408c6-b542-4272-840c-2818290da22a",
   "metadata": {},
   "outputs": [],
   "source": [
    "arr=[0,0,0,0,0,0]\n",
    "arr2=[45.5,55.5,65.5,75.5,85.5,95.5]\n",
    "z=[]\n",
    "z.append(arr2[0])\n",
    "for i in range(0,len(y)):\n",
    "    if(y[i][0]=='4'and y[i][1]=='1'):\n",
    "        arr[0]+=1\n",
    "        z.append(arr2[0])\n",
    "    elif(y[i][0]=='5' and y[i][1]=='1'):\n",
    "        arr[1]+=1\n",
    "        z.append(arr2[1])\n",
    "    elif(y[i][0]=='6'and y[i][1]=='1'):\n",
    "        arr[2]+=1\n",
    "        z.append(arr2[2])\n",
    "    elif(y[i][0]=='7' and y[i][1]=='1'):\n",
    "        arr[3]+=1\n",
    "        z.append(arr2[3])\n",
    "    elif(y[i][0]=='8'and y[i][1]=='1'):\n",
    "        arr[4]+=1\n",
    "        z.append(arr2[4])\n",
    "    elif(y[i][0]=='9'and y[i][1]=='1'):\n",
    "        arr[5]+=1\n",
    "        z.append(arr2[5])\n"
   ]
  },
  {
   "cell_type": "code",
   "execution_count": 290,
   "id": "827bb3c7-f3c6-4852-8ece-47683454e772",
   "metadata": {},
   "outputs": [
    {
     "name": "stdout",
     "output_type": "stream",
     "text": [
      "[19, 36, 88, 252, 276, 132]\n"
     ]
    }
   ],
   "source": [
    "print(arr)\n"
   ]
  },
  {
   "cell_type": "code",
   "execution_count": 291,
   "id": "f0b038e3-6401-4306-b6e9-83c57d178a9a",
   "metadata": {},
   "outputs": [],
   "source": [
    "for i in range (0,6):\n",
    "    arr2[i]*=arr[i]\n",
    "mean=0\n",
    "tmp=0\n",
    "for i in range (0,6):\n",
    "    mean+=arr2[i]\n",
    "    tmp+=arr[i]\n",
    "mean/=tmp"
   ]
  },
  {
   "cell_type": "code",
   "execution_count": 295,
   "id": "e7095f5a-f980-4b0f-bb8d-99ff13f3f491",
   "metadata": {},
   "outputs": [
    {
     "name": "stdout",
     "output_type": "stream",
     "text": [
      "grades mean:\n",
      "79.52241594022416\n",
      "grades S.D. :\n",
      "11.636261815756193\n"
     ]
    }
   ],
   "source": [
    "print(\"grades mean:\")\n",
    "print(mean)\n",
    "print(\"grades S.D. :\")\n",
    "print(np.std(z))"
   ]
  },
  {
   "cell_type": "code",
   "execution_count": 43,
   "id": "e9272b4b-208b-402b-9e3c-7d611fead1b3",
   "metadata": {},
   "outputs": [],
   "source": [
    "x=x.reshape(-1,1)"
   ]
  },
  {
   "cell_type": "code",
   "execution_count": 44,
   "id": "32cccaac-467a-4a19-a8ff-36bca06b0f51",
   "metadata": {},
   "outputs": [],
   "source": [
    "linreg=LinearRegression()"
   ]
  },
  {
   "cell_type": "code",
   "execution_count": 45,
   "id": "2a882ad8-f1ed-4111-a3fa-840033ceac9d",
   "metadata": {},
   "outputs": [],
   "source": [
    "linreg=LinearRegression()"
   ]
  },
  {
   "cell_type": "code",
   "execution_count": 419,
   "id": "989efa09-68ac-4b9b-a557-aabac765f13f",
   "metadata": {},
   "outputs": [
    {
     "data": {
      "text/html": [
       "<style>#sk-container-id-5 {color: black;background-color: white;}#sk-container-id-5 pre{padding: 0;}#sk-container-id-5 div.sk-toggleable {background-color: white;}#sk-container-id-5 label.sk-toggleable__label {cursor: pointer;display: block;width: 100%;margin-bottom: 0;padding: 0.3em;box-sizing: border-box;text-align: center;}#sk-container-id-5 label.sk-toggleable__label-arrow:before {content: \"▸\";float: left;margin-right: 0.25em;color: #696969;}#sk-container-id-5 label.sk-toggleable__label-arrow:hover:before {color: black;}#sk-container-id-5 div.sk-estimator:hover label.sk-toggleable__label-arrow:before {color: black;}#sk-container-id-5 div.sk-toggleable__content {max-height: 0;max-width: 0;overflow: hidden;text-align: left;background-color: #f0f8ff;}#sk-container-id-5 div.sk-toggleable__content pre {margin: 0.2em;color: black;border-radius: 0.25em;background-color: #f0f8ff;}#sk-container-id-5 input.sk-toggleable__control:checked~div.sk-toggleable__content {max-height: 200px;max-width: 100%;overflow: auto;}#sk-container-id-5 input.sk-toggleable__control:checked~label.sk-toggleable__label-arrow:before {content: \"▾\";}#sk-container-id-5 div.sk-estimator input.sk-toggleable__control:checked~label.sk-toggleable__label {background-color: #d4ebff;}#sk-container-id-5 div.sk-label input.sk-toggleable__control:checked~label.sk-toggleable__label {background-color: #d4ebff;}#sk-container-id-5 input.sk-hidden--visually {border: 0;clip: rect(1px 1px 1px 1px);clip: rect(1px, 1px, 1px, 1px);height: 1px;margin: -1px;overflow: hidden;padding: 0;position: absolute;width: 1px;}#sk-container-id-5 div.sk-estimator {font-family: monospace;background-color: #f0f8ff;border: 1px dotted black;border-radius: 0.25em;box-sizing: border-box;margin-bottom: 0.5em;}#sk-container-id-5 div.sk-estimator:hover {background-color: #d4ebff;}#sk-container-id-5 div.sk-parallel-item::after {content: \"\";width: 100%;border-bottom: 1px solid gray;flex-grow: 1;}#sk-container-id-5 div.sk-label:hover label.sk-toggleable__label {background-color: #d4ebff;}#sk-container-id-5 div.sk-serial::before {content: \"\";position: absolute;border-left: 1px solid gray;box-sizing: border-box;top: 0;bottom: 0;left: 50%;z-index: 0;}#sk-container-id-5 div.sk-serial {display: flex;flex-direction: column;align-items: center;background-color: white;padding-right: 0.2em;padding-left: 0.2em;position: relative;}#sk-container-id-5 div.sk-item {position: relative;z-index: 1;}#sk-container-id-5 div.sk-parallel {display: flex;align-items: stretch;justify-content: center;background-color: white;position: relative;}#sk-container-id-5 div.sk-item::before, #sk-container-id-5 div.sk-parallel-item::before {content: \"\";position: absolute;border-left: 1px solid gray;box-sizing: border-box;top: 0;bottom: 0;left: 50%;z-index: -1;}#sk-container-id-5 div.sk-parallel-item {display: flex;flex-direction: column;z-index: 1;position: relative;background-color: white;}#sk-container-id-5 div.sk-parallel-item:first-child::after {align-self: flex-end;width: 50%;}#sk-container-id-5 div.sk-parallel-item:last-child::after {align-self: flex-start;width: 50%;}#sk-container-id-5 div.sk-parallel-item:only-child::after {width: 0;}#sk-container-id-5 div.sk-dashed-wrapped {border: 1px dashed gray;margin: 0 0.4em 0.5em 0.4em;box-sizing: border-box;padding-bottom: 0.4em;background-color: white;}#sk-container-id-5 div.sk-label label {font-family: monospace;font-weight: bold;display: inline-block;line-height: 1.2em;}#sk-container-id-5 div.sk-label-container {text-align: center;}#sk-container-id-5 div.sk-container {/* jupyter's `normalize.less` sets `[hidden] { display: none; }` but bootstrap.min.css set `[hidden] { display: none !important; }` so we also need the `!important` here to be able to override the default hidden behavior on the sphinx rendered scikit-learn.org. See: https://github.com/scikit-learn/scikit-learn/issues/21755 */display: inline-block !important;position: relative;}#sk-container-id-5 div.sk-text-repr-fallback {display: none;}</style><div id=\"sk-container-id-5\" class=\"sk-top-container\"><div class=\"sk-text-repr-fallback\"><pre>LinearRegression()</pre><b>In a Jupyter environment, please rerun this cell to show the HTML representation or trust the notebook. <br />On GitHub, the HTML representation is unable to render, please try loading this page with nbviewer.org.</b></div><div class=\"sk-container\" hidden><div class=\"sk-item\"><div class=\"sk-estimator sk-toggleable\"><input class=\"sk-toggleable__control sk-hidden--visually\" id=\"sk-estimator-id-5\" type=\"checkbox\" checked><label for=\"sk-estimator-id-5\" class=\"sk-toggleable__label sk-toggleable__label-arrow\">LinearRegression</label><div class=\"sk-toggleable__content\"><pre>LinearRegression()</pre></div></div></div></div></div>"
      ],
      "text/plain": [
       "LinearRegression()"
      ]
     },
     "execution_count": 419,
     "metadata": {},
     "output_type": "execute_result"
    }
   ],
   "source": [
    "linreg.fit(x,z)\n"
   ]
  },
  {
   "cell_type": "code",
   "execution_count": 420,
   "id": "080fbed1-083f-4a39-86c7-c67fd8d99f5b",
   "metadata": {},
   "outputs": [],
   "source": [
    "y_pred=linreg.predict(x)"
   ]
  },
  {
   "cell_type": "code",
   "execution_count": 421,
   "id": "feba20de-0908-4382-b36e-f8e6f4d17965",
   "metadata": {},
   "outputs": [
    {
     "name": "stdout",
     "output_type": "stream",
     "text": [
      "Direct relationship but with lower dependency\n"
     ]
    },
    {
     "data": {
      "image/png": "[encoded data removed]",
      "text/plain": [
       "<Figure size 640x480 with 1 Axes>"
      ]
     },
     "metadata": {},
     "output_type": "display_data"
    }
   ],
   "source": [
    "plt.scatter(x,z,color='blue')\n",
    "plt.plot(x,y_pred,color='red')\n",
    "print(\"Direct relationship but with lower dependency\")"
   ]
  },
  {
   "cell_type": "code",
   "execution_count": 244,
   "id": "2c03c4e9-db5f-4ba3-a9ab-8c44d041830f",
   "metadata": {},
   "outputs": [],
   "source": [
    "import scipy.stats as stats\n"
   ]
  },
  {
   "cell_type": "code",
   "execution_count": 245,
   "id": "2eb4b48f-81af-466f-80d1-561f4134eaf6",
   "metadata": {},
   "outputs": [
    {
     "name": "stdout",
     "output_type": "stream",
     "text": [
      "NULL Hypothesis u=75.89385 (mean of traditional education grades)\n",
      "Alternative Hypothesis u>75.89385 (mean of traditional education grades)\n",
      "A one tail test is used\n"
     ]
    }
   ],
   "source": [
    "print(\"NULL Hypothesis u=75.89385 (mean of traditional education grades)\")\n",
    "print(\"Alternative Hypothesis u>75.89385 (mean of traditional education grades)\")\n",
    "print(\"A one tail test is used\")\n",
    "\n",
    "m=75.89485714285715\n"
   ]
  },
  {
   "cell_type": "code",
   "execution_count": 246,
   "id": "032e12d9-6f9c-475e-8e4b-535db1109f42",
   "metadata": {},
   "outputs": [
    {
     "data": {
      "text/plain": [
       "Ttest_1sampResult(statistic=8.730976259035986, pvalue=1.4490254126101935e-17)"
      ]
     },
     "execution_count": 246,
     "metadata": {},
     "output_type": "execute_result"
    }
   ],
   "source": [
    "stats.ttest_1samp(a=z, popmean=m)\n"
   ]
  },
  {
   "cell_type": "code",
   "execution_count": 247,
   "id": "8bd43b79-73b0-485a-8b74-07939743ed3f",
   "metadata": {},
   "outputs": [
    {
     "data": {
      "text/plain": [
       "1.646753426819834"
      ]
     },
     "execution_count": 247,
     "metadata": {},
     "output_type": "execute_result"
    }
   ],
   "source": [
    "stats.t.ppf(q=0.95,df=len(z)-1)"
   ]
  },
  {
   "cell_type": "code",
   "execution_count": 248,
   "id": "9300ce00-36e3-42b9-b4fc-c20af4259702",
   "metadata": {},
   "outputs": [
    {
     "name": "stdout",
     "output_type": "stream",
     "text": [
      "8.7074 > 1.6467\n",
      "Null hypothesis that grades are the same for online and offline learning is rejected\n",
      "mean of degrees is greater than 75.894 (traditional learning) in case of online learning\n",
      "alternative hypothesis accepted\n"
     ]
    }
   ],
   "source": [
    "print(\"8.7074 > 1.6467\")\n",
    "print(\"Null hypothesis that grades are the same for online and offline learning is rejected\")\n",
    "print(\"mean of degrees is greater than 75.894 (traditional learning) in case of online learning\")\n",
    "print(\"alternative hypothesis accepted\")"
   ]
  },
  {
   "cell_type": "code",
   "execution_count": 249,
   "id": "82e9b4b7-f16d-4efa-bbde-11589a9c71f4",
   "metadata": {},
   "outputs": [],
   "source": [
    "x = online_ds['Study time (Hours)']\n",
    "x=x.to_numpy()"
   ]
  },
  {
   "cell_type": "code",
   "execution_count": 250,
   "id": "9efef14e-2991-44e3-9b9e-b7dd8d0ce5ad",
   "metadata": {},
   "outputs": [
    {
     "name": "stdout",
     "output_type": "stream",
     "text": [
      "NULL Hypothesis u=4.63834 (mean of traditional education study hours)\n",
      "Alternative Hypothesis u!=4.63834 (mean of traditional education study hours)\n",
      "A two tail test is used\n"
     ]
    }
   ],
   "source": [
    "print(\"NULL Hypothesis u=4.63834 (mean of traditional education study hours)\")\n",
    "print(\"Alternative Hypothesis u!=4.63834 (mean of traditional education study hours)\")\n",
    "print(\"A two tail test is used\")\n",
    "m=4.638342857142857\n"
   ]
  },
  {
   "cell_type": "code",
   "execution_count": 251,
   "id": "7070f1c9-163f-4f7f-b901-530e9fe20881",
   "metadata": {},
   "outputs": [
    {
     "data": {
      "text/plain": [
       "Ttest_1sampResult(statistic=-3.0692950624148816, pvalue=0.002217015207952854)"
      ]
     },
     "execution_count": 251,
     "metadata": {},
     "output_type": "execute_result"
    }
   ],
   "source": [
    "stats.ttest_1samp(a=x, popmean=m)\n"
   ]
  },
  {
   "cell_type": "code",
   "execution_count": 252,
   "id": "0820d7dd-519c-4c12-8aaa-717b1dd32c30",
   "metadata": {},
   "outputs": [
    {
     "data": {
      "text/plain": [
       "1.962889786378892"
      ]
     },
     "execution_count": 252,
     "metadata": {},
     "output_type": "execute_result"
    }
   ],
   "source": [
    "stats.t.ppf(q=0.975,df=len(x)-1)"
   ]
  },
  {
   "cell_type": "code",
   "execution_count": 253,
   "id": "a14aa4ad-292f-44c7-914d-1957c9ac93fd",
   "metadata": {},
   "outputs": [
    {
     "data": {
      "text/plain": [
       "-1.9628897863788926"
      ]
     },
     "execution_count": 253,
     "metadata": {},
     "output_type": "execute_result"
    }
   ],
   "source": [
    "stats.t.ppf(q=0.025,df=len(x)-1)"
   ]
  },
  {
   "cell_type": "code",
   "execution_count": 254,
   "id": "40a9dc5e-2acf-4af4-b1a6-ea43bc853dae",
   "metadata": {},
   "outputs": [
    {
     "name": "stdout",
     "output_type": "stream",
     "text": [
      "-3.0692950624 is outside range\n",
      "Null hypothesis that study hours are the same for online and offline learning is rejected\n",
      "mean of study hours is not equal to 4.63834 (traditional learning) in case of online learning\n",
      "alternative hypothesis accepted\n"
     ]
    }
   ],
   "source": [
    "print(\"-3.0692950624 is outside range\")\n",
    "print(\"Null hypothesis that study hours are the same for online and offline learning is rejected\")\n",
    "print(\"mean of study hours is not equal to 4.63834 (traditional learning) in case of online learning\")\n",
    "print(\"alternative hypothesis accepted\")"
   ]
  },
  {
   "cell_type": "code",
   "execution_count": 255,
   "id": "6bccb5ca-b4c4-41e9-b874-630dbbd5c9bd",
   "metadata": {},
   "outputs": [
    {
     "name": "stdout",
     "output_type": "stream",
     "text": [
      "histogram of grades in case of online learning\n"
     ]
    },
    {
     "data": {
      "image/png": "[encoded data removed]",
      "text/plain": [
       "<Figure size 640x480 with 1 Axes>"
      ]
     },
     "metadata": {},
     "output_type": "display_data"
    }
   ],
   "source": [
    "plt.hist(z, bins=6,color='green',edgecolor='black',linewidth=4.2)\n",
    "print('histogram of grades in case of online learning')"
   ]
  },
  {
   "cell_type": "code",
   "execution_count": 92,
   "id": "1acf3c4d-62f1-4f1a-80aa-e7f59463f55f",
   "metadata": {},
   "outputs": [
    {
     "name": "stdout",
     "output_type": "stream",
     "text": [
      "mode of grades is\n",
      "81-91\n"
     ]
    }
   ],
   "source": [
    "\n",
    "mode=statistics.mode(z)\n",
    "print (\"mode of grades is\")\n",
    "print(\"81-91\")"
   ]
  },
  {
   "cell_type": "code",
   "execution_count": 7,
   "id": "820affec-39c8-46e0-b45a-e751a758479f",
   "metadata": {},
   "outputs": [
    {
     "name": "stdout",
     "output_type": "stream",
     "text": [
      "0      Practical\n",
      "1         Theory\n",
      "2           Both\n",
      "3         Theory\n",
      "4           Both\n",
      "         ...    \n",
      "808       Theory\n",
      "809       Theory\n",
      "810       Theory\n",
      "811         Both\n",
      "812    Practical\n",
      "Name: Interested in?, Length: 813, dtype: object\n"
     ]
    }
   ],
   "source": [
    "x=online_ds['Interested in?']\n",
    "print(x)"
   ]
  },
  {
   "cell_type": "code",
   "execution_count": 16,
   "id": "b4a7685c-e897-4766-8bcf-4f2d282c5668",
   "metadata": {},
   "outputs": [
    {
     "name": "stdout",
     "output_type": "stream",
     "text": [
      "mode of interested in is\n",
      "Practical\n"
     ]
    }
   ],
   "source": [
    "import statistics\n",
    "mode=statistics.mode(x)\n",
    "print (\"mode of interested in is\")\n",
    "print(mode)"
   ]
  },
  {
   "cell_type": "code",
   "execution_count": null,
   "id": "66e5fb4f-e338-49e7-b7a1-66875a452d0b",
   "metadata": {},
   "outputs": [],
   "source": [
    "print(\"let practical be represented by 1, theoretical by -1 and both by 0\")"
   ]
  },
  {
   "cell_type": "code",
   "execution_count": 9,
   "id": "2be6a55b-c4a9-405f-9620-32eb14d322c8",
   "metadata": {},
   "outputs": [],
   "source": [
    "arr = np.array([])\n",
    "arr2=[0,0,0]\n",
    "for i in x:\n",
    "    if(i=='Theory'):\n",
    "        arr=np.append(arr,-1)\n",
    "        arr2[0]+=1\n",
    "    elif (i=='Practical'):\n",
    "        arr=np.append(arr,1)\n",
    "        arr2[1]+=1\n",
    "    else:\n",
    "        arr=np.append(arr,0)\n",
    "        arr2[2]+=1\n",
    "labels=['Theoretical','Practical','Both']"
   ]
  },
  {
   "cell_type": "code",
   "execution_count": 208,
   "id": "d309f86a-4980-4e0b-a41c-8aff0715e58f",
   "metadata": {},
   "outputs": [
    {
     "name": "stdout",
     "output_type": "stream",
     "text": [
      "0.16974169741697417\n"
     ]
    }
   ],
   "source": [
    "print(arr.mean())"
   ]
  },
  {
   "cell_type": "code",
   "execution_count": 18,
   "id": "de5b188e-c3ac-4059-bda4-bddda9cc43ca",
   "metadata": {},
   "outputs": [
    {
     "name": "stdout",
     "output_type": "stream",
     "text": [
      "(0.11547470283012962, 0.22400869200381873)\n",
      "confidence interval with confidence 95%\n"
     ]
    }
   ],
   "source": [
    "confidence_interval=st.t.interval(confidence=0.95, df=len(arr)-1,\n",
    "              loc=np.mean(arr),\n",
    "              scale=st.sem(arr))\n",
    "print(confidence_interval)\n",
    "print('confidence interval with confidence 95%')"
   ]
  },
  {
   "cell_type": "code",
   "execution_count": 11,
   "id": "ec89ad5c-c8b7-4dc3-93ae-101556ec1cef",
   "metadata": {},
   "outputs": [
    {
     "data": {
      "image/png": "[encoded data removed]",
      "text/plain": [
       "<Figure size 1000x500 with 1 Axes>"
      ]
     },
     "metadata": {},
     "output_type": "display_data"
    }
   ],
   "source": [
    "import matplotlib.pyplot as plt\n",
    "fig = plt.figure(figsize = (10, 5))\n",
    "plt.bar(labels, arr2, color ='maroon',\n",
    "        width = 0.4)\n",
    "plt.xlabel(\"Preference\")\n",
    "plt.ylabel(\"No. of students\")\n",
    "plt.title(\"Study Type Preference\")\n",
    "plt.show()"
   ]
  },
  {
   "cell_type": "code",
   "execution_count": 137,
   "id": "355c7b3b-920b-468c-b298-69db786734ae",
   "metadata": {},
   "outputs": [
    {
     "name": "stdout",
     "output_type": "stream",
     "text": [
      "NULL Hypothesis u=-0.5 (mean of students interested in (majority of students interested in theory prefer online learning))\n",
      "Alternative Hypothesis u>0.5 (mean of traditional education grades)\n",
      "A one tail test is used\n"
     ]
    }
   ],
   "source": [
    "print(\"NULL Hypothesis u=-0.5 (mean of students interested in (majority of students interested in theory prefer online learning))\")\n",
    "print(\"Alternative Hypothesis u>0.5 (students interested in practical prefer online learning)\")\n",
    "print(\"A one tail test is used\")\n"
   ]
  },
  {
   "cell_type": "code",
   "execution_count": 139,
   "id": "94d2eb73-4875-4ae9-a5d4-df4458543174",
   "metadata": {},
   "outputs": [
    {
     "data": {
      "text/plain": [
       "Ttest_1sampResult(statistic=24.225206267283028, pvalue=5.3732445876003765e-98)"
      ]
     },
     "execution_count": 139,
     "metadata": {},
     "output_type": "execute_result"
    }
   ],
   "source": [
    "stats.ttest_1samp(a=arr, popmean=-0.5)"
   ]
  },
  {
   "cell_type": "code",
   "execution_count": 140,
   "id": "e2b5d5c8-4ec0-4d46-9e98-9b8ca8c2575f",
   "metadata": {},
   "outputs": [
    {
     "data": {
      "text/plain": [
       "1.64673234574176"
      ]
     },
     "execution_count": 140,
     "metadata": {},
     "output_type": "execute_result"
    }
   ],
   "source": [
    "stats.t.ppf(q=0.95,df=len(arr)-1)"
   ]
  },
  {
   "cell_type": "code",
   "execution_count": 141,
   "id": "0374eaac-e838-49bc-ac34-5e8fcd269c17",
   "metadata": {},
   "outputs": [
    {
     "name": "stdout",
     "output_type": "stream",
     "text": [
      "Null hypothesis is rejected\n",
      "alternative hypothesis accepted\n"
     ]
    }
   ],
   "source": [
    "print(\"Null hypothesis is rejected\")\n",
    "print(\"alternative hypothesis accepted\")"
   ]
  },
  {
   "cell_type": "code",
   "execution_count": 161,
   "id": "2859a4bb-9b26-414e-8608-4ab47260e6e7",
   "metadata": {},
   "outputs": [
    {
     "name": "stdout",
     "output_type": "stream",
     "text": [
      "0      Average\n",
      "1          Bad\n",
      "2          Bad\n",
      "3          Bad\n",
      "4      Average\n",
      "        ...   \n",
      "808    Average\n",
      "809    Average\n",
      "810    Average\n",
      "811       Good\n",
      "812    Average\n",
      "Name: Your level of satisfaction in Online Education, Length: 813, dtype: object\n"
     ]
    }
   ],
   "source": [
    "x=online_ds['Your level of satisfaction in Online Education']\n",
    "print(x)\n"
   ]
  },
  {
   "cell_type": "code",
   "execution_count": 162,
   "id": "206c0be5-a01c-4749-92e4-e74c7babb9a3",
   "metadata": {},
   "outputs": [
    {
     "name": "stdout",
     "output_type": "stream",
     "text": [
      "mode of Your level of satisfaction in Online Education\n",
      "Average\n"
     ]
    }
   ],
   "source": [
    "mode=statistics.mode(x)\n",
    "print (\"mode of Your level of satisfaction in Online Education\")\n",
    "print(mode)"
   ]
  },
  {
   "cell_type": "code",
   "execution_count": 165,
   "id": "6acc6a78-9d40-4056-8e27-f750b7e4d039",
   "metadata": {},
   "outputs": [
    {
     "name": "stdout",
     "output_type": "stream",
     "text": [
      "[195, 429, 189]\n"
     ]
    }
   ],
   "source": [
    "arr = np.array([])\n",
    "arr2=[0,0,0]\n",
    "for i in x:\n",
    "    if(i=='Bad'):\n",
    "        arr=np.append(arr,0)\n",
    "        arr2[0]+=1\n",
    "    elif (i=='Average'):\n",
    "        arr=np.append(arr,1)\n",
    "        arr2[1]+=1\n",
    "    else:\n",
    "        arr=np.append(arr,2)\n",
    "        arr2[2]+=1\n",
    "print(arr2)"
   ]
  },
  {
   "cell_type": "code",
   "execution_count": 166,
   "id": "0dd95fe5-270c-4ded-98d2-e5c4c1c0a40d",
   "metadata": {},
   "outputs": [
    {
     "name": "stdout",
     "output_type": "stream",
     "text": [
      "0.992619926199262\n"
     ]
    }
   ],
   "source": [
    "from matplotlib import pyplot as plt\n",
    "print(arr.mean())"
   ]
  },
  {
   "cell_type": "code",
   "execution_count": 176,
   "id": "4fcb3c07-c7fa-4016-abe5-f3748b157655",
   "metadata": {},
   "outputs": [
    {
     "data": {
      "image/png": "[encoded data removed]",
      "text/plain": [
       "<Figure size 1000x700 with 1 Axes>"
      ]
     },
     "metadata": {},
     "output_type": "display_data"
    }
   ],
   "source": [
    "\n",
    "lbls = ['Bad', 'Average', 'Good']\n",
    "x=[1,2,3]\n",
    "fig, ax = plt.subplots(figsize =(10, 7))\n",
    "plt.pie(arr2,labels=lbls,startangle=90, autopct='%1.1f%%')\n",
    "\n",
    "ax.set_title(\"Satisfaction Level\")\n",
    "plt.show()"
   ]
  },
  {
   "cell_type": "code",
   "execution_count": 177,
   "id": "a444f338-008a-40c3-bd57-c1bb9445ca96",
   "metadata": {},
   "outputs": [
    {
     "name": "stdout",
     "output_type": "stream",
     "text": [
      "(0.9452815672403199, 1.039958285158204)\n",
      "confidence interval with confidence 95%\n"
     ]
    }
   ],
   "source": [
    "confidence_interval=st.t.interval(confidence=0.95, df=len(arr)-1,\n",
    "              loc=n.mean(arr),\n",
    "              scale=st.sem(arr))\n",
    "print(confidence_interval)\n",
    "print('confidence interval with confidence 95%')"
   ]
  },
  {
   "cell_type": "code",
   "execution_count": 178,
   "id": "2be9a8c4-8e16-40cc-a3d9-9e59d0d4ce0d",
   "metadata": {},
   "outputs": [
    {
     "name": "stdout",
     "output_type": "stream",
     "text": [
      "0      Urban\n",
      "1      Urban\n",
      "2      Rural\n",
      "3      Urban\n",
      "4      Rural\n",
      "       ...  \n",
      "808    Rural\n",
      "809    Rural\n",
      "810    Rural\n",
      "811    Rural\n",
      "812    Urban\n",
      "Name: Home Location, Length: 813, dtype: object\n"
     ]
    }
   ],
   "source": [
    "x=online_ds['Home Location']\n",
    "print(x)"
   ]
  },
  {
   "cell_type": "code",
   "execution_count": 179,
   "id": "d8978403-e633-4318-aecd-cd871bb7c724",
   "metadata": {},
   "outputs": [
    {
     "name": "stdout",
     "output_type": "stream",
     "text": [
      "mode of Home Location\n",
      "Urban\n"
     ]
    }
   ],
   "source": [
    "mode=statistics.mode(x)\n",
    "print (\"mode of Home Location\")\n",
    "print(mode)"
   ]
  },
  {
   "cell_type": "code",
   "execution_count": 186,
   "id": "f38483b8-a10f-499e-85d1-e3414320573a",
   "metadata": {},
   "outputs": [
    {
     "name": "stdout",
     "output_type": "stream",
     "text": [
      "0.3111931119311193\n"
     ]
    }
   ],
   "source": [
    "arr = np.array([])\n",
    "arr2=[0,0]\n",
    "for i in x:\n",
    "    if(i=='Urban'):\n",
    "        arr=np.append(arr,1)\n",
    "        arr2[0]+=1\n",
    "    elif (i=='Rural'):\n",
    "        arr=np.append(arr,-1)\n",
    "        arr2[1]+=1\n",
    "\n",
    "print(arr.mean())"
   ]
  },
  {
   "cell_type": "code",
   "execution_count": 187,
   "id": "7030f7ea-93f2-4b95-a46c-7bbd4bab0238",
   "metadata": {},
   "outputs": [
    {
     "data": {
      "image/png": "[encoded data removed]",
      "text/plain": [
       "<Figure size 1000x700 with 1 Axes>"
      ]
     },
     "metadata": {},
     "output_type": "display_data"
    }
   ],
   "source": [
    "lbls = ['Urban', 'Rural']\n",
    "fig, ax = plt.subplots(figsize =(10, 7))\n",
    "plt.pie(arr2,labels=lbls,startangle=90, autopct='%1.1f%%')\n",
    "\n",
    "ax.set_title(\"Home Location\")\n",
    "plt.show()"
   ]
  },
  {
   "cell_type": "code",
   "execution_count": 188,
   "id": "ed0f8e3a-3b11-4ad9-9046-28de86dad4e0",
   "metadata": {},
   "outputs": [
    {
     "name": "stdout",
     "output_type": "stream",
     "text": [
      "(0.2457294989157205, 0.37665672494651814)\n",
      "confidence interval with confidence 95%\n"
     ]
    }
   ],
   "source": [
    "confidence_interval=st.t.interval(confidence=0.95, df=len(arr)-1,\n",
    "              loc=n.mean(arr),\n",
    "              scale=st.sem(arr))\n",
    "print(confidence_interval)\n",
    "print('confidence interval with confidence 95%')"
   ]
  },
  {
   "cell_type": "code",
   "execution_count": 189,
   "id": "b600b130-2b01-44ee-9795-3b8b6f53ad91",
   "metadata": {},
   "outputs": [
    {
     "name": "stdout",
     "output_type": "stream",
     "text": [
      "0       Laptop\n",
      "1       Laptop\n",
      "2       Laptop\n",
      "3       Laptop\n",
      "4       Laptop\n",
      "        ...   \n",
      "808     Mobile\n",
      "809    Desktop\n",
      "810     Mobile\n",
      "811     Mobile\n",
      "812     Laptop\n",
      "Name: Device type used to attend classes, Length: 813, dtype: object\n"
     ]
    }
   ],
   "source": [
    "x=online_ds['Device type used to attend classes']\n",
    "print(x)\n"
   ]
  },
  {
   "cell_type": "code",
   "execution_count": 191,
   "id": "c9d7f13d-b14c-4369-898c-cee65463a5d5",
   "metadata": {},
   "outputs": [
    {
     "name": "stdout",
     "output_type": "stream",
     "text": [
      "[538, 15, 260]\n"
     ]
    }
   ],
   "source": [
    "arr2=[0,0,0]\n",
    "for i in x:\n",
    "    if(i=='Laptop'):\n",
    "        arr2[0]+=1\n",
    "    elif (i=='Desktop'):\n",
    "        arr2[1]+=1\n",
    "    else:\n",
    "        arr2[2]+=1\n",
    "print(arr2)"
   ]
  },
  {
   "cell_type": "code",
   "execution_count": 192,
   "id": "d47cc376-c00b-440f-b9f2-18ce2b2f4dd7",
   "metadata": {},
   "outputs": [
    {
     "data": {
      "image/png": "[encoded data removed]",
      "text/plain": [
       "<Figure size 1000x700 with 1 Axes>"
      ]
     },
     "metadata": {},
     "output_type": "display_data"
    }
   ],
   "source": [
    "lbls = ['Laptop', 'Desktop','Mobile']\n",
    "fig, ax = plt.subplots(figsize =(10, 7))\n",
    "plt.pie(arr2,labels=lbls,startangle=90, autopct='%1.1f%%')\n",
    "\n",
    "ax.set_title(\"Device type used\")\n",
    "plt.show()"
   ]
  },
  {
   "cell_type": "code",
   "execution_count": 263,
   "id": "9b93ef3a-9b7b-45dc-89e3-5d9749fa9cee",
   "metadata": {},
   "outputs": [
    {
     "name": "stdout",
     "output_type": "stream",
     "text": [
      "0      5\n",
      "1      1\n",
      "2      2\n",
      "3      4\n",
      "4      3\n",
      "      ..\n",
      "808    5\n",
      "809    1\n",
      "810    2\n",
      "811    3\n",
      "812    3\n",
      "Name: Internet facility in your locality, Length: 813, dtype: int64\n"
     ]
    }
   ],
   "source": [
    "x=online_ds['Internet facility in your locality']\n",
    "print(x)\n"
   ]
  },
  {
   "cell_type": "code",
   "execution_count": 267,
   "id": "02e8659b-7e5b-4238-97d8-524f6fa09b78",
   "metadata": {},
   "outputs": [
    {
     "name": "stdout",
     "output_type": "stream",
     "text": [
      "3.6137761377613775\n"
     ]
    }
   ],
   "source": [
    "arr = np.array([])\n",
    "for i in x:\n",
    "        arr=np.append(arr,i)\n",
    "\n",
    "print(arr.mean())"
   ]
  },
  {
   "cell_type": "code",
   "execution_count": 268,
   "id": "605e71d8-a8ae-463b-9c9b-236c1776a6f5",
   "metadata": {},
   "outputs": [
    {
     "data": {
      "text/plain": [
       "(array([ 21.,  91., 241., 288., 172.]),\n",
       " array([1. , 1.8, 2.6, 3.4, 4.2, 5. ]),\n",
       " <BarContainer object of 5 artists>)"
      ]
     },
     "execution_count": 268,
     "metadata": {},
     "output_type": "execute_result"
    },
    {
     "data": {
      "image/png": "[encoded data removed]",
      "text/plain": [
       "<Figure size 640x480 with 1 Axes>"
      ]
     },
     "metadata": {},
     "output_type": "display_data"
    }
   ],
   "source": [
    "plt.hist(arr, bins=5,color='green',edgecolor='black',linewidth=4.2)\n"
   ]
  },
  {
   "cell_type": "code",
   "execution_count": 269,
   "id": "a876fe5e-7983-47c2-9b63-626e0d68726c",
   "metadata": {},
   "outputs": [
    {
     "name": "stdout",
     "output_type": "stream",
     "text": [
      "(3.543561043472728, 3.683991232050027)\n",
      "confidence interval with confidence 95%\n"
     ]
    }
   ],
   "source": [
    "confidence_interval=st.t.interval(confidence=0.95, df=len(arr)-1,\n",
    "              loc=n.mean(arr),\n",
    "              scale=st.sem(arr))\n",
    "print(confidence_interval)\n",
    "print('confidence interval with confidence 95%')"
   ]
  },
  {
   "cell_type": "code",
   "execution_count": null,
   "id": "5b03c125-337b-4b2c-aa92-e9c71a61aa43",
   "metadata": {},
   "outputs": [],
   "source": []
  }
 ],
 "metadata": {
  "kernelspec": {
   "display_name": "Python 3 (ipykernel)",
   "language": "python",
   "name": "python3"
  },
  "language_info": {
   "codemirror_mode": {
    "name": "ipython",
    "version": 3
   },
   "file_extension": ".py",
   "mimetype": "text/x-python",
   "name": "python",
   "nbconvert_exporter": "python",
   "pygments_lexer": "ipython3",
   "version": "3.10.9"
  }
 },
 "nbformat": 4,
 "nbformat_minor": 5
}
