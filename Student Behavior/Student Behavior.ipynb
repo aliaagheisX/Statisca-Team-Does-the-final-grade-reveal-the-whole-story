{
 "cells": [
  {
   "cell_type": "code",
   "execution_count": 1,
   "id": "fee38949",
   "metadata": {},
   "outputs": [],
   "source": [
    "import pandas as pd\n",
    "import numpy as np\n",
    "import matplotlib.pyplot as plt\n",
    "import sklearn\n",
    "import seaborn as sns\n",
    "import scipy.stats as states\n",
    "import statistics\n",
    "from sklearn.linear_model import LinearRegression\n",
    "import math\n",
    "\n",
    "model = LinearRegression()"
   ]
  },
  {
   "cell_type": "code",
   "execution_count": 2,
   "id": "0d0d71ec",
   "metadata": {},
   "outputs": [
    {
     "ename": "FileNotFoundError",
     "evalue": "[Errno 2] No such file or directory: 'traits.csv'",
     "output_type": "error",
     "traceback": [
      "\u001b[1;31m---------------------------------------------------------------------------\u001b[0m",
      "\u001b[1;31mFileNotFoundError\u001b[0m                         Traceback (most recent call last)",
      "\u001b[1;32m~\\AppData\\Local\\Temp\\ipykernel_11356\\3410733313.py\u001b[0m in \u001b[0;36m<module>\u001b[1;34m\u001b[0m\n\u001b[1;32m----> 1\u001b[1;33m \u001b[0mStudents\u001b[0m \u001b[1;33m=\u001b[0m \u001b[0mpd\u001b[0m\u001b[1;33m.\u001b[0m\u001b[0mread_csv\u001b[0m\u001b[1;33m(\u001b[0m\u001b[1;34m'traits.csv'\u001b[0m\u001b[1;33m,\u001b[0m \u001b[0mdelimiter\u001b[0m\u001b[1;33m=\u001b[0m\u001b[1;34m','\u001b[0m\u001b[1;33m,\u001b[0m \u001b[0mencoding\u001b[0m\u001b[1;33m=\u001b[0m\u001b[1;34m\"utf-8-sig\"\u001b[0m\u001b[1;33m)\u001b[0m\u001b[1;33m\u001b[0m\u001b[1;33m\u001b[0m\u001b[0m\n\u001b[0m\u001b[0;32m      2\u001b[0m \u001b[0mStudents\u001b[0m\u001b[1;33m\u001b[0m\u001b[1;33m\u001b[0m\u001b[0m\n",
      "\u001b[1;32m~\\anaconda3\\lib\\site-packages\\pandas\\util\\_decorators.py\u001b[0m in \u001b[0;36mwrapper\u001b[1;34m(*args, **kwargs)\u001b[0m\n\u001b[0;32m    309\u001b[0m                     \u001b[0mstacklevel\u001b[0m\u001b[1;33m=\u001b[0m\u001b[0mstacklevel\u001b[0m\u001b[1;33m,\u001b[0m\u001b[1;33m\u001b[0m\u001b[1;33m\u001b[0m\u001b[0m\n\u001b[0;32m    310\u001b[0m                 )\n\u001b[1;32m--> 311\u001b[1;33m             \u001b[1;32mreturn\u001b[0m \u001b[0mfunc\u001b[0m\u001b[1;33m(\u001b[0m\u001b[1;33m*\u001b[0m\u001b[0margs\u001b[0m\u001b[1;33m,\u001b[0m \u001b[1;33m**\u001b[0m\u001b[0mkwargs\u001b[0m\u001b[1;33m)\u001b[0m\u001b[1;33m\u001b[0m\u001b[1;33m\u001b[0m\u001b[0m\n\u001b[0m\u001b[0;32m    312\u001b[0m \u001b[1;33m\u001b[0m\u001b[0m\n\u001b[0;32m    313\u001b[0m         \u001b[1;32mreturn\u001b[0m \u001b[0mwrapper\u001b[0m\u001b[1;33m\u001b[0m\u001b[1;33m\u001b[0m\u001b[0m\n",
      "\u001b[1;32m~\\anaconda3\\lib\\site-packages\\pandas\\io\\parsers\\readers.py\u001b[0m in \u001b[0;36mread_csv\u001b[1;34m(filepath_or_buffer, sep, delimiter, header, names, index_col, usecols, squeeze, prefix, mangle_dupe_cols, dtype, engine, converters, true_values, false_values, skipinitialspace, skiprows, skipfooter, nrows, na_values, keep_default_na, na_filter, verbose, skip_blank_lines, parse_dates, infer_datetime_format, keep_date_col, date_parser, dayfirst, cache_dates, iterator, chunksize, compression, thousands, decimal, lineterminator, quotechar, quoting, doublequote, escapechar, comment, encoding, encoding_errors, dialect, error_bad_lines, warn_bad_lines, on_bad_lines, delim_whitespace, low_memory, memory_map, float_precision, storage_options)\u001b[0m\n\u001b[0;32m    676\u001b[0m     \u001b[0mkwds\u001b[0m\u001b[1;33m.\u001b[0m\u001b[0mupdate\u001b[0m\u001b[1;33m(\u001b[0m\u001b[0mkwds_defaults\u001b[0m\u001b[1;33m)\u001b[0m\u001b[1;33m\u001b[0m\u001b[1;33m\u001b[0m\u001b[0m\n\u001b[0;32m    677\u001b[0m \u001b[1;33m\u001b[0m\u001b[0m\n\u001b[1;32m--> 678\u001b[1;33m     \u001b[1;32mreturn\u001b[0m \u001b[0m_read\u001b[0m\u001b[1;33m(\u001b[0m\u001b[0mfilepath_or_buffer\u001b[0m\u001b[1;33m,\u001b[0m \u001b[0mkwds\u001b[0m\u001b[1;33m)\u001b[0m\u001b[1;33m\u001b[0m\u001b[1;33m\u001b[0m\u001b[0m\n\u001b[0m\u001b[0;32m    679\u001b[0m \u001b[1;33m\u001b[0m\u001b[0m\n\u001b[0;32m    680\u001b[0m \u001b[1;33m\u001b[0m\u001b[0m\n",
      "\u001b[1;32m~\\anaconda3\\lib\\site-packages\\pandas\\io\\parsers\\readers.py\u001b[0m in \u001b[0;36m_read\u001b[1;34m(filepath_or_buffer, kwds)\u001b[0m\n\u001b[0;32m    573\u001b[0m \u001b[1;33m\u001b[0m\u001b[0m\n\u001b[0;32m    574\u001b[0m     \u001b[1;31m# Create the parser.\u001b[0m\u001b[1;33m\u001b[0m\u001b[1;33m\u001b[0m\u001b[0m\n\u001b[1;32m--> 575\u001b[1;33m     \u001b[0mparser\u001b[0m \u001b[1;33m=\u001b[0m \u001b[0mTextFileReader\u001b[0m\u001b[1;33m(\u001b[0m\u001b[0mfilepath_or_buffer\u001b[0m\u001b[1;33m,\u001b[0m \u001b[1;33m**\u001b[0m\u001b[0mkwds\u001b[0m\u001b[1;33m)\u001b[0m\u001b[1;33m\u001b[0m\u001b[1;33m\u001b[0m\u001b[0m\n\u001b[0m\u001b[0;32m    576\u001b[0m \u001b[1;33m\u001b[0m\u001b[0m\n\u001b[0;32m    577\u001b[0m     \u001b[1;32mif\u001b[0m \u001b[0mchunksize\u001b[0m \u001b[1;32mor\u001b[0m \u001b[0miterator\u001b[0m\u001b[1;33m:\u001b[0m\u001b[1;33m\u001b[0m\u001b[1;33m\u001b[0m\u001b[0m\n",
      "\u001b[1;32m~\\anaconda3\\lib\\site-packages\\pandas\\io\\parsers\\readers.py\u001b[0m in \u001b[0;36m__init__\u001b[1;34m(self, f, engine, **kwds)\u001b[0m\n\u001b[0;32m    930\u001b[0m \u001b[1;33m\u001b[0m\u001b[0m\n\u001b[0;32m    931\u001b[0m         \u001b[0mself\u001b[0m\u001b[1;33m.\u001b[0m\u001b[0mhandles\u001b[0m\u001b[1;33m:\u001b[0m \u001b[0mIOHandles\u001b[0m \u001b[1;33m|\u001b[0m \u001b[1;32mNone\u001b[0m \u001b[1;33m=\u001b[0m \u001b[1;32mNone\u001b[0m\u001b[1;33m\u001b[0m\u001b[1;33m\u001b[0m\u001b[0m\n\u001b[1;32m--> 932\u001b[1;33m         \u001b[0mself\u001b[0m\u001b[1;33m.\u001b[0m\u001b[0m_engine\u001b[0m \u001b[1;33m=\u001b[0m \u001b[0mself\u001b[0m\u001b[1;33m.\u001b[0m\u001b[0m_make_engine\u001b[0m\u001b[1;33m(\u001b[0m\u001b[0mf\u001b[0m\u001b[1;33m,\u001b[0m \u001b[0mself\u001b[0m\u001b[1;33m.\u001b[0m\u001b[0mengine\u001b[0m\u001b[1;33m)\u001b[0m\u001b[1;33m\u001b[0m\u001b[1;33m\u001b[0m\u001b[0m\n\u001b[0m\u001b[0;32m    933\u001b[0m \u001b[1;33m\u001b[0m\u001b[0m\n\u001b[0;32m    934\u001b[0m     \u001b[1;32mdef\u001b[0m \u001b[0mclose\u001b[0m\u001b[1;33m(\u001b[0m\u001b[0mself\u001b[0m\u001b[1;33m)\u001b[0m\u001b[1;33m:\u001b[0m\u001b[1;33m\u001b[0m\u001b[1;33m\u001b[0m\u001b[0m\n",
      "\u001b[1;32m~\\anaconda3\\lib\\site-packages\\pandas\\io\\parsers\\readers.py\u001b[0m in \u001b[0;36m_make_engine\u001b[1;34m(self, f, engine)\u001b[0m\n\u001b[0;32m   1214\u001b[0m             \u001b[1;31m# \"Union[str, PathLike[str], ReadCsvBuffer[bytes], ReadCsvBuffer[str]]\"\u001b[0m\u001b[1;33m\u001b[0m\u001b[1;33m\u001b[0m\u001b[0m\n\u001b[0;32m   1215\u001b[0m             \u001b[1;31m# , \"str\", \"bool\", \"Any\", \"Any\", \"Any\", \"Any\", \"Any\"\u001b[0m\u001b[1;33m\u001b[0m\u001b[1;33m\u001b[0m\u001b[0m\n\u001b[1;32m-> 1216\u001b[1;33m             self.handles = get_handle(  # type: ignore[call-overload]\n\u001b[0m\u001b[0;32m   1217\u001b[0m                 \u001b[0mf\u001b[0m\u001b[1;33m,\u001b[0m\u001b[1;33m\u001b[0m\u001b[1;33m\u001b[0m\u001b[0m\n\u001b[0;32m   1218\u001b[0m                 \u001b[0mmode\u001b[0m\u001b[1;33m,\u001b[0m\u001b[1;33m\u001b[0m\u001b[1;33m\u001b[0m\u001b[0m\n",
      "\u001b[1;32m~\\anaconda3\\lib\\site-packages\\pandas\\io\\common.py\u001b[0m in \u001b[0;36mget_handle\u001b[1;34m(path_or_buf, mode, encoding, compression, memory_map, is_text, errors, storage_options)\u001b[0m\n\u001b[0;32m    784\u001b[0m         \u001b[1;32mif\u001b[0m \u001b[0mioargs\u001b[0m\u001b[1;33m.\u001b[0m\u001b[0mencoding\u001b[0m \u001b[1;32mand\u001b[0m \u001b[1;34m\"b\"\u001b[0m \u001b[1;32mnot\u001b[0m \u001b[1;32min\u001b[0m \u001b[0mioargs\u001b[0m\u001b[1;33m.\u001b[0m\u001b[0mmode\u001b[0m\u001b[1;33m:\u001b[0m\u001b[1;33m\u001b[0m\u001b[1;33m\u001b[0m\u001b[0m\n\u001b[0;32m    785\u001b[0m             \u001b[1;31m# Encoding\u001b[0m\u001b[1;33m\u001b[0m\u001b[1;33m\u001b[0m\u001b[0m\n\u001b[1;32m--> 786\u001b[1;33m             handle = open(\n\u001b[0m\u001b[0;32m    787\u001b[0m                 \u001b[0mhandle\u001b[0m\u001b[1;33m,\u001b[0m\u001b[1;33m\u001b[0m\u001b[1;33m\u001b[0m\u001b[0m\n\u001b[0;32m    788\u001b[0m                 \u001b[0mioargs\u001b[0m\u001b[1;33m.\u001b[0m\u001b[0mmode\u001b[0m\u001b[1;33m,\u001b[0m\u001b[1;33m\u001b[0m\u001b[1;33m\u001b[0m\u001b[0m\n",
      "\u001b[1;31mFileNotFoundError\u001b[0m: [Errno 2] No such file or directory: 'traits.csv'"
     ]
    }
   ],
   "source": [
    "Students = pd.read_csv('Student Behavior.csv', delimiter=',', encoding=\"utf-8-sig\")\n",
    "Students"
   ]
  },
  {
   "cell_type": "markdown",
   "id": "d1fa5367",
   "metadata": {},
   "source": [
    "'Gender','college mark','hobbies','daily studing time','prefer to study in','Do you like your degree?','social medai & video','Travelling Time','Stress Level'"
   ]
  },
  {
   "cell_type": "markdown",
   "id": "9ac82210",
   "metadata": {},
   "source": [
    "We will work with the above columns and test hypothesis"
   ]
  },
  {
   "cell_type": "code",
   "execution_count": null,
   "id": "6c5e7b91",
   "metadata": {},
   "outputs": [],
   "source": [
    "Students.pop('Certification Course')\n",
    "Students.pop('Department')\n",
    "Students.pop('Height(CM)')\n",
    "Students.pop('Weight(KG)')\n",
    "Students.pop('10th Mark')\n",
    "Students.pop('12th Mark')\n",
    "Students.pop('salary expectation')\n",
    "Students.pop('willingness to pursue a career based on their degree')\n",
    "Students.pop('Financial Status')\n",
    "Students.pop('part-time job')\n",
    "Students.pop('hobbies')\n",
    "Students.pop('Travelling Time')\n",
    "Students.pop('prefer to study in')"
   ]
  },
  {
   "cell_type": "code",
   "execution_count": null,
   "id": "6fa5e0d0",
   "metadata": {},
   "outputs": [],
   "source": [
    "Students.info()"
   ]
  },
  {
   "cell_type": "code",
   "execution_count": null,
   "id": "b7bf3075",
   "metadata": {},
   "outputs": [],
   "source": []
  },
  {
   "cell_type": "code",
   "execution_count": null,
   "id": "33a58630",
   "metadata": {},
   "outputs": [],
   "source": [
    "Students.describe().round(2)"
   ]
  },
  {
   "cell_type": "code",
   "execution_count": null,
   "id": "318d6b00",
   "metadata": {},
   "outputs": [],
   "source": [
    "Students.isna().sum()"
   ]
  },
  {
   "cell_type": "code",
   "execution_count": null,
   "id": "651e1e72",
   "metadata": {},
   "outputs": [],
   "source": [
    "Students.duplicated().sum()"
   ]
  },
  {
   "cell_type": "code",
   "execution_count": null,
   "id": "3469bf98",
   "metadata": {},
   "outputs": [],
   "source": [
    "Students['Gender'].unique()"
   ]
  },
  {
   "cell_type": "code",
   "execution_count": null,
   "id": "633adf58",
   "metadata": {},
   "outputs": [],
   "source": [
    "Students['Gender'].value_counts().plot.pie()"
   ]
  },
  {
   "cell_type": "code",
   "execution_count": null,
   "id": "5bd449c7",
   "metadata": {},
   "outputs": [],
   "source": [
    "Students['Do you like your degree?'].value_counts().plot.bar()"
   ]
  },
  {
   "cell_type": "code",
   "execution_count": null,
   "id": "28e5dfe6",
   "metadata": {},
   "outputs": [],
   "source": [
    "Students['college mark'].unique()"
   ]
  },
  {
   "cell_type": "code",
   "execution_count": null,
   "id": "d97c350f",
   "metadata": {},
   "outputs": [],
   "source": [
    "Students['college mark'].value_counts()"
   ]
  },
  {
   "cell_type": "code",
   "execution_count": null,
   "id": "6c682185",
   "metadata": {},
   "outputs": [],
   "source": [
    "Students['Do you like your degree?'].unique()"
   ]
  },
  {
   "cell_type": "code",
   "execution_count": null,
   "id": "bb821e71",
   "metadata": {},
   "outputs": [],
   "source": []
  },
  {
   "cell_type": "code",
   "execution_count": null,
   "id": "fac85d78",
   "metadata": {},
   "outputs": [],
   "source": []
  },
  {
   "cell_type": "code",
   "execution_count": null,
   "id": "1b77f818",
   "metadata": {},
   "outputs": [],
   "source": []
  },
  {
   "cell_type": "code",
   "execution_count": null,
   "id": "d58539a4",
   "metadata": {},
   "outputs": [],
   "source": []
  },
  {
   "cell_type": "code",
   "execution_count": null,
   "id": "6e7f294c",
   "metadata": {},
   "outputs": [],
   "source": [
    "Students['social medai & video'].unique()"
   ]
  },
  {
   "cell_type": "code",
   "execution_count": null,
   "id": "261fd6c7",
   "metadata": {},
   "outputs": [],
   "source": [
    "Students['social medai & video'].value_counts()"
   ]
  },
  {
   "cell_type": "code",
   "execution_count": null,
   "id": "4bde8b67",
   "metadata": {},
   "outputs": [],
   "source": [
    "Students['Stress Level'].unique()"
   ]
  },
  {
   "cell_type": "code",
   "execution_count": null,
   "id": "c3c5bb95",
   "metadata": {},
   "outputs": [],
   "source": [
    "Students['Stress Level'].value_counts()"
   ]
  },
  {
   "cell_type": "code",
   "execution_count": null,
   "id": "48bc908c",
   "metadata": {},
   "outputs": [],
   "source": []
  },
  {
   "cell_type": "code",
   "execution_count": null,
   "id": "70e7d837",
   "metadata": {},
   "outputs": [],
   "source": []
  },
  {
   "cell_type": "markdown",
   "id": "3956243c",
   "metadata": {},
   "source": [
    "Analysis"
   ]
  },
  {
   "cell_type": "code",
   "execution_count": null,
   "id": "a1c3a571",
   "metadata": {},
   "outputs": [],
   "source": [
    "def split_dataframe(df, chunk_size = 10000): \n",
    "    chunks = list()\n",
    "    num_chunks = len(df) // chunk_size + 1\n",
    "    for i in range(num_chunks):\n",
    "        chunks.append(df[i*chunk_size:(i+1)*chunk_size])\n",
    "    return chunks\n",
    "\n",
    "samples = split_dataframe(Students, 25)\n",
    "\n",
    "samples.pop() #pop\n",
    "print(len(samples))"
   ]
  },
  {
   "cell_type": "code",
   "execution_count": null,
   "id": "c8790a24",
   "metadata": {},
   "outputs": [],
   "source": [
    "sum_means = 0\n",
    "for i in samples:\n",
    "    sum_means = sum_means+ i.describe().round(2).iloc[1]['college mark']\n",
    "    \n",
    "print(sum_means/8)"
   ]
  },
  {
   "cell_type": "code",
   "execution_count": null,
   "id": "48b6fcf6",
   "metadata": {},
   "outputs": [],
   "source": [
    "Students.groupby('Gender').std()['college mark']"
   ]
  },
  {
   "cell_type": "code",
   "execution_count": null,
   "id": "55528912",
   "metadata": {},
   "outputs": [],
   "source": [
    "Students['Gender'].value_counts()"
   ]
  },
  {
   "cell_type": "markdown",
   "id": "921ad567",
   "metadata": {},
   "source": [
    "## is there's relation between grades and gender?"
   ]
  },
  {
   "cell_type": "markdown",
   "id": "c91c9b09",
   "metadata": {},
   "source": [
    "#### T-test with (pvalue = 0.05)"
   ]
  },
  {
   "cell_type": "code",
   "execution_count": null,
   "id": "ec0775bc",
   "metadata": {},
   "outputs": [],
   "source": [
    "female_grades = Students[Students['Gender'] == 'Female']\n",
    "\n",
    "male_grades = Students[Students['Gender'] == 'Male']\n",
    "\n",
    "states.ttest_ind(female_grades['college mark'], male_grades['college mark'])"
   ]
  },
  {
   "cell_type": "markdown",
   "id": "5ffb6717",
   "metadata": {},
   "source": [
    "#### Reject null hypothesis"
   ]
  },
  {
   "cell_type": "markdown",
   "id": "3fc13449",
   "metadata": {},
   "source": [
    "The Independent t-test results are significant (p-value very very small)!"
   ]
  },
  {
   "cell_type": "markdown",
   "id": "b81e7a51",
   "metadata": {},
   "source": [
    "we can reject **the null hypothesis** in support of **the alternative hypothesis.**"
   ]
  },
  {
   "cell_type": "markdown",
   "id": "e5676688",
   "metadata": {},
   "source": [
    "this relation between gender & grade"
   ]
  },
  {
   "cell_type": "code",
   "execution_count": null,
   "id": "6e4f5c5e",
   "metadata": {
    "scrolled": true
   },
   "outputs": [],
   "source": [
    "sns.displot(Students, x=\"college mark\", hue=\"Gender\", kind='kde')"
   ]
  },
  {
   "cell_type": "markdown",
   "id": "435d3748",
   "metadata": {},
   "source": [
    "### regression analysis"
   ]
  },
  {
   "cell_type": "code",
   "execution_count": null,
   "id": "ce79c831",
   "metadata": {},
   "outputs": [],
   "source": [
    "gender_temp = Students.copy()\n",
    "\n",
    "gender_temp.loc[gender_temp['Gender'] == 'Male', 'Gender'] = 0\n",
    "gender_temp.loc[gender_temp['Gender'] == 'Female', 'Gender'] = 1\n",
    "gender_temp['Gender'] = pd.to_numeric(gender_temp['Gender'])\n",
    "\n",
    "x = gender_temp['college mark'].to_numpy().reshape((-1, 1))\n",
    "y = gender_temp['Gender'].to_numpy()"
   ]
  },
  {
   "cell_type": "code",
   "execution_count": null,
   "id": "723032df",
   "metadata": {},
   "outputs": [],
   "source": [
    "model.fit(x, y)"
   ]
  },
  {
   "cell_type": "code",
   "execution_count": null,
   "id": "bc5735ba",
   "metadata": {
    "scrolled": true
   },
   "outputs": [],
   "source": [
    "y_pred=model.predict(x)\n",
    "plt.scatter(x,y,color='blue')\n",
    "plt.plot(x,y_pred,color='red')\n",
    "print(f\"coefficient of determination: {model.score(x, y)}\")\n",
    "print(f\"intercept: {model.intercept_}\")\n",
    "print(f\"slope: {model.coef_}\") "
   ]
  },
  {
   "cell_type": "markdown",
   "id": "c5d1cd8a",
   "metadata": {},
   "source": [
    "#### From the graph we can deduce that there is a weak direct relationship between students’ grades and gender (since the slope is quite small)."
   ]
  },
  {
   "cell_type": "markdown",
   "id": "720d7fb0",
   "metadata": {},
   "source": [
    "## is there's relation between like your degree and college mark?"
   ]
  },
  {
   "cell_type": "markdown",
   "id": "65538c5a",
   "metadata": {},
   "source": [
    "#### T-test with (pvalue = 0.05)"
   ]
  },
  {
   "cell_type": "code",
   "execution_count": null,
   "id": "39b78ec4",
   "metadata": {},
   "outputs": [],
   "source": [
    "Students['Do you like your degree?'].value_counts()"
   ]
  },
  {
   "cell_type": "code",
   "execution_count": null,
   "id": "eb25484a",
   "metadata": {},
   "outputs": [],
   "source": [
    "yes_grades = Students[Students['Do you like your degree?'] == 'Yes']\n",
    "\n",
    "no_grades = Students[Students['Do you like your degree?'] == 'No']\n",
    "\n",
    "states.ttest_ind(yes_grades['college mark'], no_grades['college mark'])"
   ]
  },
  {
   "cell_type": "markdown",
   "id": "bd1f9ba0",
   "metadata": {},
   "source": [
    "#### Accept null hypothesis"
   ]
  },
  {
   "cell_type": "markdown",
   "id": "6927037f",
   "metadata": {},
   "source": [
    "The Independent t-test results are significant (p-value large than 0.05)!"
   ]
  },
  {
   "cell_type": "markdown",
   "id": "2bdffa90",
   "metadata": {},
   "source": [
    "we can accept **the null hypothesis** in favor of **the alternative hypothesis.**"
   ]
  },
  {
   "cell_type": "markdown",
   "id": "3c905936",
   "metadata": {},
   "source": [
    "this relation between grades & do you like your degree"
   ]
  },
  {
   "cell_type": "code",
   "execution_count": null,
   "id": "ab8e20cd",
   "metadata": {
    "scrolled": true
   },
   "outputs": [],
   "source": [
    "sns.displot(Students, x=\"college mark\", hue='Do you like your degree?', kind='kde')"
   ]
  },
  {
   "cell_type": "markdown",
   "id": "7c1c9012",
   "metadata": {},
   "source": [
    "### regression analysis"
   ]
  },
  {
   "cell_type": "code",
   "execution_count": null,
   "id": "bc462cef",
   "metadata": {},
   "outputs": [],
   "source": [
    "degree_like = Students.copy()\n",
    "\n",
    "degree_like.loc[degree_like['Do you like your degree?'] == 'Yes', 'Do you like your degree?'] = 1\n",
    "degree_like.loc[degree_like['Do you like your degree?'] == 'No', 'Do you like your degree?'] = 0\n",
    "degree_like['Do you like your degree?'] = pd.to_numeric(degree_like['Do you like your degree?'])\n",
    "\n",
    "x = degree_like['college mark'].to_numpy().reshape((-1, 1))\n",
    "y = degree_like['Do you like your degree?'].to_numpy()"
   ]
  },
  {
   "cell_type": "code",
   "execution_count": null,
   "id": "6bbe5a45",
   "metadata": {},
   "outputs": [],
   "source": [
    "model.fit(x, y)"
   ]
  },
  {
   "cell_type": "code",
   "execution_count": null,
   "id": "43fd87fc",
   "metadata": {
    "scrolled": true
   },
   "outputs": [],
   "source": [
    "y_pred=model.predict(x)\n",
    "plt.scatter(x,y,color='blue')\n",
    "plt.plot(x,y_pred,color='red')\n",
    "print(f\"coefficient of determination: {model.score(x, y)}\")\n",
    "print(f\"intercept: {model.intercept_}\")\n",
    "print(f\"slope: {model.coef_}\")"
   ]
  },
  {
   "cell_type": "markdown",
   "id": "60f65262",
   "metadata": {},
   "source": [
    "#### weak direct relationship between students’ grades and like your degree is hard (since the slope is quite small) (grades no longer depend on do you like degree?)."
   ]
  },
  {
   "cell_type": "markdown",
   "id": "6833a4f8",
   "metadata": {},
   "source": [
    "## is there's relation between Stress Level and college mark?"
   ]
  },
  {
   "cell_type": "markdown",
   "id": "91a5def1",
   "metadata": {},
   "source": [
    "#### T-test with (pvalue = 0.05)"
   ]
  },
  {
   "cell_type": "code",
   "execution_count": null,
   "id": "e0307247",
   "metadata": {},
   "outputs": [],
   "source": [
    "Students['Stress Level'].value_counts()"
   ]
  },
  {
   "cell_type": "code",
   "execution_count": null,
   "id": "206d3741",
   "metadata": {},
   "outputs": [],
   "source": [
    "Good = Students[Students['Stress Level'].isin(['Good', 'fabulous'])]\n",
    "Bad = Students[Students['Stress Level'].isin(['Bad', 'Awful'])]\n",
    "\n",
    "states.ttest_ind(Good['college mark'], Bad['college mark'])"
   ]
  },
  {
   "cell_type": "markdown",
   "id": "e6df03ec",
   "metadata": {},
   "source": [
    "#### Accept null hypothesis"
   ]
  },
  {
   "cell_type": "markdown",
   "id": "41d67e05",
   "metadata": {},
   "source": [
    "The Independent t-test results are significant (p-value large than 0.05)!"
   ]
  },
  {
   "cell_type": "markdown",
   "id": "48680c12",
   "metadata": {},
   "source": [
    "we can accept **the null hypothesis** in favour of **the alternative hypothesis.**"
   ]
  },
  {
   "cell_type": "markdown",
   "id": "d7f2bd5d",
   "metadata": {},
   "source": [
    "this relation between grades & stress"
   ]
  },
  {
   "cell_type": "code",
   "execution_count": null,
   "id": "3234f523",
   "metadata": {},
   "outputs": [],
   "source": [
    "sns.displot(Students, x=\"college mark\", hue='Stress Level', kind='kde')"
   ]
  },
  {
   "cell_type": "markdown",
   "id": "af04f059",
   "metadata": {},
   "source": [
    "### regression analysis"
   ]
  },
  {
   "cell_type": "code",
   "execution_count": null,
   "id": "23abb581",
   "metadata": {},
   "outputs": [],
   "source": [
    "stress_temp = Students.copy()\n",
    "\n",
    "stress_temp.loc[stress_temp['Stress Level'] == 'fabulous', 'Stress Level'] = 10\n",
    "stress_temp.loc[stress_temp['Stress Level'] == 'Good', 'Stress Level'] = 7\n",
    "stress_temp.loc[stress_temp['Stress Level'] == 'Bad', 'Stress Level'] = 2\n",
    "stress_temp.loc[stress_temp['Stress Level'] == 'Awful', 'Stress Level'] = 0\n",
    "\n",
    "stress_temp['Stress Level'] = pd.to_numeric(stress_temp['Stress Level'])\n",
    "\n",
    "#temp_students.info()\n",
    "x = stress_temp['college mark'].to_numpy().reshape((-1, 1))\n",
    "y = stress_temp['Stress Level'].to_numpy()"
   ]
  },
  {
   "cell_type": "code",
   "execution_count": null,
   "id": "3c853249",
   "metadata": {},
   "outputs": [],
   "source": [
    "model.fit(x, y)"
   ]
  },
  {
   "cell_type": "code",
   "execution_count": null,
   "id": "a88b7302",
   "metadata": {
    "scrolled": true
   },
   "outputs": [],
   "source": [
    "y_pred=model.predict(x)\n",
    "plt.scatter(x,y,color='blue')\n",
    "plt.plot(x,y_pred,color='red')\n",
    "print(f\"coefficient of determination: {model.score(x, y)}\")\n",
    "print(f\"intercept: {model.intercept_}\")\n",
    "print(f\"slope: {model.coef_}\")"
   ]
  },
  {
   "cell_type": "markdown",
   "id": "bb5925b9",
   "metadata": {},
   "source": [
    "#### weak direct relationship between students’ grades and stress level is hard (since the slope is quite small) (grades no longer depend on stress level)."
   ]
  },
  {
   "cell_type": "markdown",
   "id": "c48bf824",
   "metadata": {},
   "source": [
    "## is there's relation between social media time and  college mark?"
   ]
  },
  {
   "cell_type": "markdown",
   "id": "0ab5ad52",
   "metadata": {},
   "source": [
    "#### T-test with (pvalue = 0.05)"
   ]
  },
  {
   "cell_type": "code",
   "execution_count": null,
   "id": "8ba8b605",
   "metadata": {},
   "outputs": [],
   "source": [
    "Students['social medai & video'].value_counts()"
   ]
  },
  {
   "cell_type": "code",
   "execution_count": null,
   "id": "f3471d9e",
   "metadata": {},
   "outputs": [],
   "source": [
    "less_hr = Students[Students['social medai & video'].isin(['30 - 60 Minute', '1 - 30 Minute' '0 Minute'])]\n",
    "large_hr = Students[Students['social medai & video'].isin(['1.30 - 2 hour', '1 - 1.30 hour', 'More than 2 hour'])]\n",
    "\n",
    "states.ttest_ind(less_hr['college mark'], large_hr['college mark'])"
   ]
  },
  {
   "cell_type": "markdown",
   "id": "1ff073a1",
   "metadata": {},
   "source": [
    "#### Accept null hypothesis"
   ]
  },
  {
   "cell_type": "markdown",
   "id": "e04dc893",
   "metadata": {},
   "source": [
    "The Independent t-test results are significant (p-value large than 0.05)!"
   ]
  },
  {
   "cell_type": "markdown",
   "id": "2692b3e3",
   "metadata": {},
   "source": [
    "we can accept **the null hypothesis** in favour of **the alternative hypothesis.**"
   ]
  },
  {
   "cell_type": "markdown",
   "id": "3fcc79c8",
   "metadata": {},
   "source": [
    "this relation between grades & social medai & video"
   ]
  },
  {
   "cell_type": "code",
   "execution_count": null,
   "id": "5136e791",
   "metadata": {},
   "outputs": [],
   "source": [
    "sns.displot(Students, x=\"college mark\", hue='social medai & video', kind='kde', multiple=\"stack\")"
   ]
  },
  {
   "cell_type": "markdown",
   "id": "4fda733b",
   "metadata": {},
   "source": [
    "### regression analysis"
   ]
  },
  {
   "cell_type": "code",
   "execution_count": null,
   "id": "bb47ff60",
   "metadata": {},
   "outputs": [],
   "source": [
    "temp_students = Students.copy()\n",
    "\n",
    "temp_students.loc[temp_students['social medai & video'] == '0 Minute', 'social medai & video'] = 0\n",
    "temp_students.loc[temp_students['social medai & video'] == '30 - 60 Minute', 'social medai & video'] = 45\n",
    "temp_students.loc[temp_students['social medai & video'] == '1 - 30 Minute', 'social medai & video'] = 15\n",
    "temp_students.loc[temp_students['social medai & video'] == '1 - 1.30 hour', 'social medai & video'] = 75\n",
    "temp_students.loc[temp_students['social medai & video'] == '1.30 - 2 hour', 'social medai & video'] = 105\n",
    "temp_students.loc[temp_students['social medai & video'] == 'More than 2 hour', 'social medai & video'] = 150\n",
    "\n",
    "temp_students['social medai & video'] = pd.to_numeric(temp_students['social medai & video'])\n",
    "\n",
    "#temp_students.info()\n",
    "x = temp_students['college mark'].to_numpy().reshape((-1, 1))\n",
    "y = temp_students['social medai & video'].to_numpy()"
   ]
  },
  {
   "cell_type": "code",
   "execution_count": null,
   "id": "e2a36ea1",
   "metadata": {},
   "outputs": [],
   "source": [
    "model.fit(x, y)"
   ]
  },
  {
   "cell_type": "code",
   "execution_count": null,
   "id": "bec2686c",
   "metadata": {},
   "outputs": [],
   "source": [
    "y_pred=model.predict(x)\n",
    "plt.scatter(x,y,color='blue')\n",
    "plt.plot(x,y_pred,color='red')\n",
    "print(f\"coefficient of determination: {model.score(x, y)}\")\n",
    "print(f\"intercept: {model.intercept_}\")\n",
    "print(f\"slope: {model.coef_}\")"
   ]
  },
  {
   "cell_type": "markdown",
   "id": "035712c8",
   "metadata": {},
   "source": [
    "#### there's no relation between grades and social media"
   ]
  },
  {
   "cell_type": "code",
   "execution_count": null,
   "id": "15c3d972",
   "metadata": {},
   "outputs": [],
   "source": []
  },
  {
   "cell_type": "code",
   "execution_count": null,
   "id": "d0c3d661",
   "metadata": {},
   "outputs": [],
   "source": []
  }
 ],
 "metadata": {
  "kernelspec": {
   "display_name": "Python 3 (ipykernel)",
   "language": "python",
   "name": "python3"
  },
  "language_info": {
   "codemirror_mode": {
    "name": "ipython",
    "version": 3
   },
   "file_extension": ".py",
   "mimetype": "text/x-python",
   "name": "python",
   "nbconvert_exporter": "python",
   "pygments_lexer": "ipython3",
   "version": "3.9.13"
  }
 },
 "nbformat": 4,
 "nbformat_minor": 5
}
